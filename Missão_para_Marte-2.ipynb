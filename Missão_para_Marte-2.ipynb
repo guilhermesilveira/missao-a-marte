{
  "nbformat": 4,
  "nbformat_minor": 0,
  "metadata": {
    "colab": {
      "name": "Missão para Marte",
      "provenance": [],
      "collapsed_sections": []
    },
    "kernelspec": {
      "name": "python3",
      "display_name": "Python 3"
    }
  },
  "cells": [
    {
      "cell_type": "markdown",
      "metadata": {
        "id": "byTae7kyVAWI"
      },
      "source": [
        "## Quanto tempo para terminar o jogo?\n",
        "\n",
        "## Qual a probabilidade dessa situação atual do jogo ser real? E não ser fabricada manualmente (= roubada)"
      ]
    },
    {
      "cell_type": "code",
      "metadata": {
        "id": "xfhZq6m0SXPD"
      },
      "source": [
        "import numpy as np\n",
        "\n",
        "# another approach is to use a set with the MARKED positions\n",
        "# card_positions = [4,8,12,16,19,25,30,33,36,41,44,47]\n",
        "\n",
        "board = [0] * 52\n",
        "board[4] = 1\n",
        "board[8] = 1\n",
        "board[12] = 1\n",
        "board[16] = 1\n",
        "board[19] = 1\n",
        "board[25] = 1\n",
        "board[30] = 1\n",
        "board[33] = 1\n",
        "board[36] = 1\n",
        "board[41] = 1\n",
        "board[44] = 1\n",
        "board[47] = 1\n",
        "board = np.array(board)"
      ],
      "execution_count": 1,
      "outputs": []
    },
    {
      "cell_type": "code",
      "metadata": {
        "id": "hu0eQ0_nW7Wj"
      },
      "source": [
        "# two variations\n",
        "\n",
        "BALANCED_CARDS = [ -6,-5,-4,-3,-2,-1,1,2,3,4,5,6]\n",
        "SLOW_CARDS = [-6,-5,-4,-3,-2,-1]\n",
        "ORIGINAL_CARDS = [-6, -5, -4, -3, -2, -1, 1, 2, 3, 3, 4, 6]"
      ],
      "execution_count": 2,
      "outputs": []
    },
    {
      "cell_type": "code",
      "metadata": {
        "id": "uN-S9yZFXinT"
      },
      "source": [
        "# regra assumida: quando você pega uma carta e usa, ela volta pra pilha, EMBARALHADA"
      ],
      "execution_count": 3,
      "outputs": []
    },
    {
      "cell_type": "code",
      "metadata": {
        "id": "ccQ9nEY5X-xF"
      },
      "source": [
        "DICE_FACES = 4"
      ],
      "execution_count": 4,
      "outputs": []
    },
    {
      "cell_type": "code",
      "metadata": {
        "id": "bGIiw7MHYe_U"
      },
      "source": [
        "np.random.seed(43354)\n",
        "\n",
        "class Game:\n",
        "  def __init__(self, players, board, player_time, cards = None):\n",
        "    self.players = players\n",
        "    self.board = board\n",
        "    self.cards = cards\n",
        "    if not self.cards:\n",
        "      self.cards = []\n",
        "    # current_player pode ser calculado atraves do turno\n",
        "    self.current_player = 0\n",
        "    self.turn = 1\n",
        "    self.player_position = np.array([0, 0])\n",
        "    self.player_time = player_time\n",
        "    self.current_time = 0\n",
        "    self.red_turns = 0\n",
        "    self.bonus_movements = 0\n",
        "\n",
        "  def limit(self, position):\n",
        "    return  min((len(self.board)-1), max(0, position))\n",
        "\n",
        "  def next_turn(self):\n",
        "\n",
        "    dice = np.random.choice(DICE_FACES) + 1\n",
        "    self.current_time += self.player_time[self.current_player]\n",
        "\n",
        "    position = self.limit(self.player_position[self.current_player] + dice)\n",
        "    while board[position] == 1 and len(self.cards) > 0:\n",
        "      card = np.random.choice(self.cards)\n",
        "      self.bonus_movements += card\n",
        "      self.red_turns += 1\n",
        "      position = self.limit(position + card)\n",
        "\n",
        "    self.player_position[self.current_player] = position\n",
        "\n",
        "    if position >= len(self.board) - 1:\n",
        "      return False\n",
        "\n",
        "    self.current_player = (self.current_player + 1) % self.players\n",
        "    self.turn += 1\n",
        "    return True\n"
      ],
      "execution_count": 5,
      "outputs": []
    },
    {
      "cell_type": "code",
      "metadata": {
        "id": "jgg9zsUTY2k0",
        "outputId": "dc59f683-c13f-4aa2-a837-54dc3d392868",
        "colab": {
          "base_uri": "https://localhost:8080/"
        }
      },
      "source": [
        "# o tempo em funcao do numero de jogadores?\n",
        "\n",
        "def simulate(player_time, cards=None):\n",
        "  game = Game(2, board, player_time=player_time, cards=cards)\n",
        "  while game.next_turn():\n",
        "    pass\n",
        "  return [game.current_time / 60.0, game.current_player, game.turn, game.player_position, game.red_turns, game.bonus_movements]\n",
        "simulate([5,30])"
      ],
      "execution_count": 6,
      "outputs": [
        {
          "output_type": "execute_result",
          "data": {
            "text/plain": [
              "[11.083333333333334, 1, 38, array([42, 51]), 0, 0]"
            ]
          },
          "metadata": {
            "tags": []
          },
          "execution_count": 6
        }
      ]
    },
    {
      "cell_type": "code",
      "metadata": {
        "id": "_oI8osVCZBCu"
      },
      "source": [
        "from tqdm import tqdm\n"
      ],
      "execution_count": 7,
      "outputs": []
    },
    {
      "cell_type": "code",
      "metadata": {
        "id": "yaShiKrgcj92",
        "outputId": "ce46b3c8-e358-4d0e-edf8-19e4f146c4bd",
        "colab": {
          "base_uri": "https://localhost:8080/",
          "height": 220
        }
      },
      "source": [
        "import pandas as pd\n",
        "\n",
        "np.random.seed(43278)\n",
        "results = [simulate([5,30]) for i in tqdm(range(10000))]\n",
        "results = pd.DataFrame(results, columns=[\"time\", \"player\", \"turn\", \"positions\", \"red_turns\", \"bonus_movements\"])\n",
        "results.head()"
      ],
      "execution_count": 8,
      "outputs": [
        {
          "output_type": "stream",
          "text": [
            "100%|██████████| 10000/10000 [00:03<00:00, 3130.08it/s]\n"
          ],
          "name": "stderr"
        },
        {
          "output_type": "execute_result",
          "data": {
            "text/html": [
              "<div>\n",
              "<style scoped>\n",
              "    .dataframe tbody tr th:only-of-type {\n",
              "        vertical-align: middle;\n",
              "    }\n",
              "\n",
              "    .dataframe tbody tr th {\n",
              "        vertical-align: top;\n",
              "    }\n",
              "\n",
              "    .dataframe thead th {\n",
              "        text-align: right;\n",
              "    }\n",
              "</style>\n",
              "<table border=\"1\" class=\"dataframe\">\n",
              "  <thead>\n",
              "    <tr style=\"text-align: right;\">\n",
              "      <th></th>\n",
              "      <th>time</th>\n",
              "      <th>player</th>\n",
              "      <th>turn</th>\n",
              "      <th>positions</th>\n",
              "      <th>red_turns</th>\n",
              "      <th>bonus_movements</th>\n",
              "    </tr>\n",
              "  </thead>\n",
              "  <tbody>\n",
              "    <tr>\n",
              "      <th>0</th>\n",
              "      <td>11.666667</td>\n",
              "      <td>1</td>\n",
              "      <td>40</td>\n",
              "      <td>[43, 51]</td>\n",
              "      <td>0</td>\n",
              "      <td>0</td>\n",
              "    </tr>\n",
              "    <tr>\n",
              "      <th>1</th>\n",
              "      <td>11.083333</td>\n",
              "      <td>1</td>\n",
              "      <td>38</td>\n",
              "      <td>[48, 51]</td>\n",
              "      <td>0</td>\n",
              "      <td>0</td>\n",
              "    </tr>\n",
              "    <tr>\n",
              "      <th>2</th>\n",
              "      <td>9.416667</td>\n",
              "      <td>0</td>\n",
              "      <td>33</td>\n",
              "      <td>[51, 35]</td>\n",
              "      <td>0</td>\n",
              "      <td>0</td>\n",
              "    </tr>\n",
              "    <tr>\n",
              "      <th>3</th>\n",
              "      <td>10.583333</td>\n",
              "      <td>0</td>\n",
              "      <td>37</td>\n",
              "      <td>[51, 46]</td>\n",
              "      <td>0</td>\n",
              "      <td>0</td>\n",
              "    </tr>\n",
              "    <tr>\n",
              "      <th>4</th>\n",
              "      <td>10.583333</td>\n",
              "      <td>0</td>\n",
              "      <td>37</td>\n",
              "      <td>[51, 43]</td>\n",
              "      <td>0</td>\n",
              "      <td>0</td>\n",
              "    </tr>\n",
              "  </tbody>\n",
              "</table>\n",
              "</div>"
            ],
            "text/plain": [
              "        time  player  turn positions  red_turns  bonus_movements\n",
              "0  11.666667       1    40  [43, 51]          0                0\n",
              "1  11.083333       1    38  [48, 51]          0                0\n",
              "2   9.416667       0    33  [51, 35]          0                0\n",
              "3  10.583333       0    37  [51, 46]          0                0\n",
              "4  10.583333       0    37  [51, 43]          0                0"
            ]
          },
          "metadata": {
            "tags": []
          },
          "execution_count": 8
        }
      ]
    },
    {
      "cell_type": "code",
      "metadata": {
        "id": "LT5KGOGacpW8",
        "outputId": "61552dc5-cb07-4848-b3b2-ab243209071a",
        "colab": {
          "base_uri": "https://localhost:8080/"
        }
      },
      "source": [
        "results.mean()"
      ],
      "execution_count": 9,
      "outputs": [
        {
          "output_type": "execute_result",
          "data": {
            "text/plain": [
              "time                          11.1873\n",
              "player                         0.4179\n",
              "turn                          38.7721\n",
              "positions          [48.7184, 47.2275]\n",
              "red_turns                           0\n",
              "bonus_movements                     0\n",
              "dtype: object"
            ]
          },
          "metadata": {
            "tags": []
          },
          "execution_count": 9
        }
      ]
    },
    {
      "cell_type": "markdown",
      "metadata": {
        "id": "e02gUgB0dHof"
      },
      "source": [
        "## O jogador inicial tem vantagem!\n",
        "\n",
        "## Em média vão ser 38.7 jogadas e 11 minutos. Mas não existe 38.7 jogadas!"
      ]
    },
    {
      "cell_type": "code",
      "metadata": {
        "id": "6Hg8YVcGdBC2",
        "outputId": "2fd2b42e-a5cd-482f-80fd-24a95d62ba2b",
        "colab": {
          "base_uri": "https://localhost:8080/",
          "height": 282
        }
      },
      "source": [
        "results['time'].plot(kind='hist')"
      ],
      "execution_count": 10,
      "outputs": [
        {
          "output_type": "execute_result",
          "data": {
            "text/plain": [
              "<matplotlib.axes._subplots.AxesSubplot at 0x7ff24e399128>"
            ]
          },
          "metadata": {
            "tags": []
          },
          "execution_count": 10
        },
        {
          "output_type": "display_data",
          "data": {
            "image/png": "[encoded data removed]",
            "text/plain": [
              "<Figure size 432x288 with 1 Axes>"
            ]
          },
          "metadata": {
            "tags": [],
            "needs_background": "light"
          }
        }
      ]
    },
    {
      "cell_type": "code",
      "metadata": {
        "id": "EQBRsuV8dRNk",
        "outputId": "c13fd401-bd52-439d-b8d9-438cf2d7e56a",
        "colab": {
          "base_uri": "https://localhost:8080/",
          "height": 282
        }
      },
      "source": [
        "results['turn'].plot(kind='hist')"
      ],
      "execution_count": 11,
      "outputs": [
        {
          "output_type": "execute_result",
          "data": {
            "text/plain": [
              "<matplotlib.axes._subplots.AxesSubplot at 0x7ff24e289898>"
            ]
          },
          "metadata": {
            "tags": []
          },
          "execution_count": 11
        },
        {
          "output_type": "display_data",
          "data": {
            "image/png": "[encoded data removed]",
            "text/plain": [
              "<Figure size 432x288 with 1 Axes>"
            ]
          },
          "metadata": {
            "tags": [],
            "needs_background": "light"
          }
        }
      ]
    },
    {
      "cell_type": "code",
      "metadata": {
        "id": "IErqcPJNduRN",
        "outputId": "2d0a87f0-22b9-4ee1-ecfc-0d20129060f6",
        "colab": {
          "base_uri": "https://localhost:8080/",
          "height": 282
        }
      },
      "source": [
        "results['player'].plot(kind='hist')"
      ],
      "execution_count": 12,
      "outputs": [
        {
          "output_type": "execute_result",
          "data": {
            "text/plain": [
              "<matplotlib.axes._subplots.AxesSubplot at 0x7ff24ebd8f28>"
            ]
          },
          "metadata": {
            "tags": []
          },
          "execution_count": 12
        },
        {
          "output_type": "display_data",
          "data": {
            "image/png": "[encoded data removed]",
            "text/plain": [
              "<Figure size 432x288 with 1 Axes>"
            ]
          },
          "metadata": {
            "tags": [],
            "needs_background": "light"
          }
        }
      ]
    },
    {
      "cell_type": "code",
      "metadata": {
        "id": "chtYi3Sodxxl"
      },
      "source": [
        "import matplotlib.pyplot as plt\n",
        "\n",
        "def run_simulation_for(player_time, cards=None):\n",
        "  np.random.seed(574983)\n",
        "  results = [simulate(player_time, cards=cards) for i in tqdm(range(10000))]\n",
        "  results = pd.DataFrame(results, columns=[\"time\", \"player\", \"turn\", \"positions\", \"red_turns\", \"bonus_movements\"])\n",
        "  results['player'].plot(kind='hist')\n",
        "  plt.show()\n",
        "  results['turn'].plot(kind='hist')\n",
        "  plt.show()\n",
        "  results['time'].plot(kind='hist')\n",
        "  plt.show()\n",
        "  display(results.describe())\n",
        "  return results"
      ],
      "execution_count": 13,
      "outputs": []
    },
    {
      "cell_type": "code",
      "metadata": {
        "id": "uHhWwlngeNNm",
        "outputId": "14455a5e-d09d-429e-8f21-6ae62b435efe",
        "colab": {
          "base_uri": "https://localhost:8080/",
          "height": 1000
        }
      },
      "source": [
        "run_simulation_for([5,30]);"
      ],
      "execution_count": 14,
      "outputs": [
        {
          "output_type": "stream",
          "text": [
            "100%|██████████| 10000/10000 [00:03<00:00, 2992.24it/s]\n"
          ],
          "name": "stderr"
        },
        {
          "output_type": "display_data",
          "data": {
            "image/png": "[encoded data removed]",
            "text/plain": [
              "<Figure size 432x288 with 1 Axes>"
            ]
          },
          "metadata": {
            "tags": [],
            "needs_background": "light"
          }
        },
        {
          "output_type": "display_data",
          "data": {
            "image/png": "[encoded data removed]",
            "text/plain": [
              "<Figure size 432x288 with 1 Axes>"
            ]
          },
          "metadata": {
            "tags": [],
            "needs_background": "light"
          }
        },
        {
          "output_type": "display_data",
          "data": {
            "image/png": "[encoded data removed]",
            "text/plain": [
              "<Figure size 432x288 with 1 Axes>"
            ]
          },
          "metadata": {
            "tags": [],
            "needs_background": "light"
          }
        },
        {
          "output_type": "display_data",
          "data": {
            "text/html": [
              "<div>\n",
              "<style scoped>\n",
              "    .dataframe tbody tr th:only-of-type {\n",
              "        vertical-align: middle;\n",
              "    }\n",
              "\n",
              "    .dataframe tbody tr th {\n",
              "        vertical-align: top;\n",
              "    }\n",
              "\n",
              "    .dataframe thead th {\n",
              "        text-align: right;\n",
              "    }\n",
              "</style>\n",
              "<table border=\"1\" class=\"dataframe\">\n",
              "  <thead>\n",
              "    <tr style=\"text-align: right;\">\n",
              "      <th></th>\n",
              "      <th>time</th>\n",
              "      <th>player</th>\n",
              "      <th>turn</th>\n",
              "      <th>red_turns</th>\n",
              "      <th>bonus_movements</th>\n",
              "    </tr>\n",
              "  </thead>\n",
              "  <tbody>\n",
              "    <tr>\n",
              "      <th>count</th>\n",
              "      <td>10000.000000</td>\n",
              "      <td>10000.000000</td>\n",
              "      <td>10000.000000</td>\n",
              "      <td>10000.0</td>\n",
              "      <td>10000.0</td>\n",
              "    </tr>\n",
              "    <tr>\n",
              "      <th>mean</th>\n",
              "      <td>11.176942</td>\n",
              "      <td>0.432500</td>\n",
              "      <td>38.726300</td>\n",
              "      <td>0.0</td>\n",
              "      <td>0.0</td>\n",
              "    </tr>\n",
              "    <tr>\n",
              "      <th>std</th>\n",
              "      <td>0.938455</td>\n",
              "      <td>0.495448</td>\n",
              "      <td>3.172412</td>\n",
              "      <td>0.0</td>\n",
              "      <td>0.0</td>\n",
              "    </tr>\n",
              "    <tr>\n",
              "      <th>min</th>\n",
              "      <td>8.166667</td>\n",
              "      <td>0.000000</td>\n",
              "      <td>28.000000</td>\n",
              "      <td>0.0</td>\n",
              "      <td>0.0</td>\n",
              "    </tr>\n",
              "    <tr>\n",
              "      <th>25%</th>\n",
              "      <td>10.583333</td>\n",
              "      <td>0.000000</td>\n",
              "      <td>37.000000</td>\n",
              "      <td>0.0</td>\n",
              "      <td>0.0</td>\n",
              "    </tr>\n",
              "    <tr>\n",
              "      <th>50%</th>\n",
              "      <td>11.166667</td>\n",
              "      <td>0.000000</td>\n",
              "      <td>39.000000</td>\n",
              "      <td>0.0</td>\n",
              "      <td>0.0</td>\n",
              "    </tr>\n",
              "    <tr>\n",
              "      <th>75%</th>\n",
              "      <td>11.750000</td>\n",
              "      <td>1.000000</td>\n",
              "      <td>41.000000</td>\n",
              "      <td>0.0</td>\n",
              "      <td>0.0</td>\n",
              "    </tr>\n",
              "    <tr>\n",
              "      <th>max</th>\n",
              "      <td>15.166667</td>\n",
              "      <td>1.000000</td>\n",
              "      <td>52.000000</td>\n",
              "      <td>0.0</td>\n",
              "      <td>0.0</td>\n",
              "    </tr>\n",
              "  </tbody>\n",
              "</table>\n",
              "</div>"
            ],
            "text/plain": [
              "               time        player          turn  red_turns  bonus_movements\n",
              "count  10000.000000  10000.000000  10000.000000    10000.0          10000.0\n",
              "mean      11.176942      0.432500     38.726300        0.0              0.0\n",
              "std        0.938455      0.495448      3.172412        0.0              0.0\n",
              "min        8.166667      0.000000     28.000000        0.0              0.0\n",
              "25%       10.583333      0.000000     37.000000        0.0              0.0\n",
              "50%       11.166667      0.000000     39.000000        0.0              0.0\n",
              "75%       11.750000      1.000000     41.000000        0.0              0.0\n",
              "max       15.166667      1.000000     52.000000        0.0              0.0"
            ]
          },
          "metadata": {
            "tags": []
          }
        }
      ]
    },
    {
      "cell_type": "code",
      "metadata": {
        "id": "yARdl2ZNnLv_",
        "outputId": "9e6d7566-6b7e-43aa-cfb3-2b0529562684",
        "colab": {
          "base_uri": "https://localhost:8080/"
        }
      },
      "source": [
        "np.array(ORIGINAL_CARDS).mean()"
      ],
      "execution_count": 15,
      "outputs": [
        {
          "output_type": "execute_result",
          "data": {
            "text/plain": [
              "-0.16666666666666666"
            ]
          },
          "metadata": {
            "tags": []
          },
          "execution_count": 15
        }
      ]
    },
    {
      "cell_type": "code",
      "metadata": {
        "id": "yx2sot_ZeOWN",
        "outputId": "2536fb33-1e29-4740-e700-f99e8a4493e7",
        "colab": {
          "base_uri": "https://localhost:8080/",
          "height": 1000
        }
      },
      "source": [
        "run_simulation_for([30,5]);"
      ],
      "execution_count": 16,
      "outputs": [
        {
          "output_type": "stream",
          "text": [
            "100%|██████████| 10000/10000 [00:03<00:00, 3228.14it/s]\n"
          ],
          "name": "stderr"
        },
        {
          "output_type": "display_data",
          "data": {
            "image/png": "[encoded data removed]",
            "text/plain": [
              "<Figure size 432x288 with 1 Axes>"
            ]
          },
          "metadata": {
            "tags": [],
            "needs_background": "light"
          }
        },
        {
          "output_type": "display_data",
          "data": {
            "image/png": "[encoded data removed]",
            "text/plain": [
              "<Figure size 432x288 with 1 Axes>"
            ]
          },
          "metadata": {
            "tags": [],
            "needs_background": "light"
          }
        },
        {
          "output_type": "display_data",
          "data": {
            "image/png": "[encoded data removed]",
            "text/plain": [
              "<Figure size 432x288 with 1 Axes>"
            ]
          },
          "metadata": {
            "tags": [],
            "needs_background": "light"
          }
        },
        {
          "output_type": "display_data",
          "data": {
            "text/html": [
              "<div>\n",
              "<style scoped>\n",
              "    .dataframe tbody tr th:only-of-type {\n",
              "        vertical-align: middle;\n",
              "    }\n",
              "\n",
              "    .dataframe tbody tr th {\n",
              "        vertical-align: top;\n",
              "    }\n",
              "\n",
              "    .dataframe thead th {\n",
              "        text-align: right;\n",
              "    }\n",
              "</style>\n",
              "<table border=\"1\" class=\"dataframe\">\n",
              "  <thead>\n",
              "    <tr style=\"text-align: right;\">\n",
              "      <th></th>\n",
              "      <th>time</th>\n",
              "      <th>player</th>\n",
              "      <th>turn</th>\n",
              "      <th>red_turns</th>\n",
              "      <th>bonus_movements</th>\n",
              "    </tr>\n",
              "  </thead>\n",
              "  <tbody>\n",
              "    <tr>\n",
              "      <th>count</th>\n",
              "      <td>10000.000000</td>\n",
              "      <td>10000.000000</td>\n",
              "      <td>10000.000000</td>\n",
              "      <td>10000.0</td>\n",
              "      <td>10000.0</td>\n",
              "    </tr>\n",
              "    <tr>\n",
              "      <th>mean</th>\n",
              "      <td>11.413400</td>\n",
              "      <td>0.432500</td>\n",
              "      <td>38.726300</td>\n",
              "      <td>0.0</td>\n",
              "      <td>0.0</td>\n",
              "    </tr>\n",
              "    <tr>\n",
              "      <th>std</th>\n",
              "      <td>0.923537</td>\n",
              "      <td>0.495448</td>\n",
              "      <td>3.172412</td>\n",
              "      <td>0.0</td>\n",
              "      <td>0.0</td>\n",
              "    </tr>\n",
              "    <tr>\n",
              "      <th>min</th>\n",
              "      <td>8.166667</td>\n",
              "      <td>0.000000</td>\n",
              "      <td>28.000000</td>\n",
              "      <td>0.0</td>\n",
              "      <td>0.0</td>\n",
              "    </tr>\n",
              "    <tr>\n",
              "      <th>25%</th>\n",
              "      <td>11.000000</td>\n",
              "      <td>0.000000</td>\n",
              "      <td>37.000000</td>\n",
              "      <td>0.0</td>\n",
              "      <td>0.0</td>\n",
              "    </tr>\n",
              "    <tr>\n",
              "      <th>50%</th>\n",
              "      <td>11.583333</td>\n",
              "      <td>0.000000</td>\n",
              "      <td>39.000000</td>\n",
              "      <td>0.0</td>\n",
              "      <td>0.0</td>\n",
              "    </tr>\n",
              "    <tr>\n",
              "      <th>75%</th>\n",
              "      <td>12.166667</td>\n",
              "      <td>1.000000</td>\n",
              "      <td>41.000000</td>\n",
              "      <td>0.0</td>\n",
              "      <td>0.0</td>\n",
              "    </tr>\n",
              "    <tr>\n",
              "      <th>max</th>\n",
              "      <td>15.166667</td>\n",
              "      <td>1.000000</td>\n",
              "      <td>52.000000</td>\n",
              "      <td>0.0</td>\n",
              "      <td>0.0</td>\n",
              "    </tr>\n",
              "  </tbody>\n",
              "</table>\n",
              "</div>"
            ],
            "text/plain": [
              "               time        player          turn  red_turns  bonus_movements\n",
              "count  10000.000000  10000.000000  10000.000000    10000.0          10000.0\n",
              "mean      11.413400      0.432500     38.726300        0.0              0.0\n",
              "std        0.923537      0.495448      3.172412        0.0              0.0\n",
              "min        8.166667      0.000000     28.000000        0.0              0.0\n",
              "25%       11.000000      0.000000     37.000000        0.0              0.0\n",
              "50%       11.583333      0.000000     39.000000        0.0              0.0\n",
              "75%       12.166667      1.000000     41.000000        0.0              0.0\n",
              "max       15.166667      1.000000     52.000000        0.0              0.0"
            ]
          },
          "metadata": {
            "tags": []
          }
        }
      ]
    },
    {
      "cell_type": "code",
      "metadata": {
        "id": "FWP1Mz3berJ-",
        "outputId": "163f3a33-b2e6-4e90-9577-29f0cf5e8fef",
        "colab": {
          "base_uri": "https://localhost:8080/",
          "height": 1000
        }
      },
      "source": [
        "run_simulation_for([5,30], cards=ORIGINAL_CARDS);"
      ],
      "execution_count": 17,
      "outputs": [
        {
          "output_type": "stream",
          "text": [
            "100%|██████████| 10000/10000 [00:04<00:00, 2426.25it/s]\n"
          ],
          "name": "stderr"
        },
        {
          "output_type": "display_data",
          "data": {
            "image/png": "[encoded data removed]",
            "text/plain": [
              "<Figure size 432x288 with 1 Axes>"
            ]
          },
          "metadata": {
            "tags": [],
            "needs_background": "light"
          }
        },
        {
          "output_type": "display_data",
          "data": {
            "image/png": "[encoded data removed]",
            "text/plain": [
              "<Figure size 432x288 with 1 Axes>"
            ]
          },
          "metadata": {
            "tags": [],
            "needs_background": "light"
          }
        },
        {
          "output_type": "display_data",
          "data": {
            "image/png": "[encoded data removed]",
            "text/plain": [
              "<Figure size 432x288 with 1 Axes>"
            ]
          },
          "metadata": {
            "tags": [],
            "needs_background": "light"
          }
        },
        {
          "output_type": "display_data",
          "data": {
            "text/html": [
              "<div>\n",
              "<style scoped>\n",
              "    .dataframe tbody tr th:only-of-type {\n",
              "        vertical-align: middle;\n",
              "    }\n",
              "\n",
              "    .dataframe tbody tr th {\n",
              "        vertical-align: top;\n",
              "    }\n",
              "\n",
              "    .dataframe thead th {\n",
              "        text-align: right;\n",
              "    }\n",
              "</style>\n",
              "<table border=\"1\" class=\"dataframe\">\n",
              "  <thead>\n",
              "    <tr style=\"text-align: right;\">\n",
              "      <th></th>\n",
              "      <th>time</th>\n",
              "      <th>player</th>\n",
              "      <th>turn</th>\n",
              "      <th>red_turns</th>\n",
              "      <th>bonus_movements</th>\n",
              "    </tr>\n",
              "  </thead>\n",
              "  <tbody>\n",
              "    <tr>\n",
              "      <th>count</th>\n",
              "      <td>10000.000000</td>\n",
              "      <td>10000.000000</td>\n",
              "      <td>10000.000000</td>\n",
              "      <td>10000.000000</td>\n",
              "      <td>10000.000000</td>\n",
              "    </tr>\n",
              "    <tr>\n",
              "      <th>mean</th>\n",
              "      <td>10.676300</td>\n",
              "      <td>0.466400</td>\n",
              "      <td>36.985600</td>\n",
              "      <td>12.368700</td>\n",
              "      <td>-2.098200</td>\n",
              "    </tr>\n",
              "    <tr>\n",
              "      <th>std</th>\n",
              "      <td>1.852329</td>\n",
              "      <td>0.498895</td>\n",
              "      <td>6.324602</td>\n",
              "      <td>4.260044</td>\n",
              "      <td>13.321513</td>\n",
              "    </tr>\n",
              "    <tr>\n",
              "      <th>min</th>\n",
              "      <td>4.750000</td>\n",
              "      <td>0.000000</td>\n",
              "      <td>17.000000</td>\n",
              "      <td>2.000000</td>\n",
              "      <td>-70.000000</td>\n",
              "    </tr>\n",
              "    <tr>\n",
              "      <th>25%</th>\n",
              "      <td>9.416667</td>\n",
              "      <td>0.000000</td>\n",
              "      <td>33.000000</td>\n",
              "      <td>9.000000</td>\n",
              "      <td>-11.000000</td>\n",
              "    </tr>\n",
              "    <tr>\n",
              "      <th>50%</th>\n",
              "      <td>10.583333</td>\n",
              "      <td>0.000000</td>\n",
              "      <td>37.000000</td>\n",
              "      <td>12.000000</td>\n",
              "      <td>-1.000000</td>\n",
              "    </tr>\n",
              "    <tr>\n",
              "      <th>75%</th>\n",
              "      <td>11.750000</td>\n",
              "      <td>1.000000</td>\n",
              "      <td>41.000000</td>\n",
              "      <td>15.000000</td>\n",
              "      <td>7.000000</td>\n",
              "    </tr>\n",
              "    <tr>\n",
              "      <th>max</th>\n",
              "      <td>19.250000</td>\n",
              "      <td>1.000000</td>\n",
              "      <td>66.000000</td>\n",
              "      <td>33.000000</td>\n",
              "      <td>42.000000</td>\n",
              "    </tr>\n",
              "  </tbody>\n",
              "</table>\n",
              "</div>"
            ],
            "text/plain": [
              "               time        player          turn     red_turns  bonus_movements\n",
              "count  10000.000000  10000.000000  10000.000000  10000.000000     10000.000000\n",
              "mean      10.676300      0.466400     36.985600     12.368700        -2.098200\n",
              "std        1.852329      0.498895      6.324602      4.260044        13.321513\n",
              "min        4.750000      0.000000     17.000000      2.000000       -70.000000\n",
              "25%        9.416667      0.000000     33.000000      9.000000       -11.000000\n",
              "50%       10.583333      0.000000     37.000000     12.000000        -1.000000\n",
              "75%       11.750000      1.000000     41.000000     15.000000         7.000000\n",
              "max       19.250000      1.000000     66.000000     33.000000        42.000000"
            ]
          },
          "metadata": {
            "tags": []
          }
        }
      ]
    },
    {
      "cell_type": "code",
      "metadata": {
        "id": "leedctKxno1x",
        "outputId": "f7a2aa31-03d5-4176-b5ef-a67a88d1802a",
        "colab": {
          "base_uri": "https://localhost:8080/",
          "height": 1000
        }
      },
      "source": [
        "run_simulation_for([5,30], cards=BALANCED_CARDS);"
      ],
      "execution_count": 18,
      "outputs": [
        {
          "output_type": "stream",
          "text": [
            "100%|██████████| 10000/10000 [00:03<00:00, 2546.97it/s]\n"
          ],
          "name": "stderr"
        },
        {
          "output_type": "display_data",
          "data": {
            "image/png": "[encoded data removed]",
            "text/plain": [
              "<Figure size 432x288 with 1 Axes>"
            ]
          },
          "metadata": {
            "tags": [],
            "needs_background": "light"
          }
        },
        {
          "output_type": "display_data",
          "data": {
            "image/png": "[encoded data removed]",
            "text/plain": [
              "<Figure size 432x288 with 1 Axes>"
            ]
          },
          "metadata": {
            "tags": [],
            "needs_background": "light"
          }
        },
        {
          "output_type": "display_data",
          "data": {
            "image/png": "[encoded data removed]",
            "text/plain": [
              "<Figure size 432x288 with 1 Axes>"
            ]
          },
          "metadata": {
            "tags": [],
            "needs_background": "light"
          }
        },
        {
          "output_type": "display_data",
          "data": {
            "text/html": [
              "<div>\n",
              "<style scoped>\n",
              "    .dataframe tbody tr th:only-of-type {\n",
              "        vertical-align: middle;\n",
              "    }\n",
              "\n",
              "    .dataframe tbody tr th {\n",
              "        vertical-align: top;\n",
              "    }\n",
              "\n",
              "    .dataframe thead th {\n",
              "        text-align: right;\n",
              "    }\n",
              "</style>\n",
              "<table border=\"1\" class=\"dataframe\">\n",
              "  <thead>\n",
              "    <tr style=\"text-align: right;\">\n",
              "      <th></th>\n",
              "      <th>time</th>\n",
              "      <th>player</th>\n",
              "      <th>turn</th>\n",
              "      <th>red_turns</th>\n",
              "      <th>bonus_movements</th>\n",
              "    </tr>\n",
              "  </thead>\n",
              "  <tbody>\n",
              "    <tr>\n",
              "      <th>count</th>\n",
              "      <td>10000.000000</td>\n",
              "      <td>10000.000000</td>\n",
              "      <td>10000.00000</td>\n",
              "      <td>10000.000000</td>\n",
              "      <td>10000.000000</td>\n",
              "    </tr>\n",
              "    <tr>\n",
              "      <th>mean</th>\n",
              "      <td>10.408208</td>\n",
              "      <td>0.475400</td>\n",
              "      <td>36.06000</td>\n",
              "      <td>11.787700</td>\n",
              "      <td>-0.023500</td>\n",
              "    </tr>\n",
              "    <tr>\n",
              "      <th>std</th>\n",
              "      <td>1.844542</td>\n",
              "      <td>0.499419</td>\n",
              "      <td>6.29814</td>\n",
              "      <td>4.103646</td>\n",
              "      <td>13.246482</td>\n",
              "    </tr>\n",
              "    <tr>\n",
              "      <th>min</th>\n",
              "      <td>4.666667</td>\n",
              "      <td>0.000000</td>\n",
              "      <td>16.00000</td>\n",
              "      <td>2.000000</td>\n",
              "      <td>-66.000000</td>\n",
              "    </tr>\n",
              "    <tr>\n",
              "      <th>25%</th>\n",
              "      <td>9.333333</td>\n",
              "      <td>0.000000</td>\n",
              "      <td>32.00000</td>\n",
              "      <td>9.000000</td>\n",
              "      <td>-8.000000</td>\n",
              "    </tr>\n",
              "    <tr>\n",
              "      <th>50%</th>\n",
              "      <td>10.500000</td>\n",
              "      <td>0.000000</td>\n",
              "      <td>36.00000</td>\n",
              "      <td>11.000000</td>\n",
              "      <td>1.000000</td>\n",
              "    </tr>\n",
              "    <tr>\n",
              "      <th>75%</th>\n",
              "      <td>11.666667</td>\n",
              "      <td>1.000000</td>\n",
              "      <td>40.00000</td>\n",
              "      <td>14.000000</td>\n",
              "      <td>9.000000</td>\n",
              "    </tr>\n",
              "    <tr>\n",
              "      <th>max</th>\n",
              "      <td>20.500000</td>\n",
              "      <td>1.000000</td>\n",
              "      <td>71.00000</td>\n",
              "      <td>34.000000</td>\n",
              "      <td>40.000000</td>\n",
              "    </tr>\n",
              "  </tbody>\n",
              "</table>\n",
              "</div>"
            ],
            "text/plain": [
              "               time        player         turn     red_turns  bonus_movements\n",
              "count  10000.000000  10000.000000  10000.00000  10000.000000     10000.000000\n",
              "mean      10.408208      0.475400     36.06000     11.787700        -0.023500\n",
              "std        1.844542      0.499419      6.29814      4.103646        13.246482\n",
              "min        4.666667      0.000000     16.00000      2.000000       -66.000000\n",
              "25%        9.333333      0.000000     32.00000      9.000000        -8.000000\n",
              "50%       10.500000      0.000000     36.00000     11.000000         1.000000\n",
              "75%       11.666667      1.000000     40.00000     14.000000         9.000000\n",
              "max       20.500000      1.000000     71.00000     34.000000        40.000000"
            ]
          },
          "metadata": {
            "tags": []
          }
        }
      ]
    },
    {
      "cell_type": "code",
      "metadata": {
        "id": "ye3ctljcnp03",
        "outputId": "7cb7da63-ea70-40fd-b646-25c1ebdb80e8",
        "colab": {
          "base_uri": "https://localhost:8080/",
          "height": 1000
        }
      },
      "source": [
        "run_simulation_for([5,30], cards=SLOW_CARDS);"
      ],
      "execution_count": 19,
      "outputs": [
        {
          "output_type": "stream",
          "text": [
            "100%|██████████| 10000/10000 [00:06<00:00, 1454.12it/s]\n"
          ],
          "name": "stderr"
        },
        {
          "output_type": "display_data",
          "data": {
            "image/png": "[encoded data removed]",
            "text/plain": [
              "<Figure size 432x288 with 1 Axes>"
            ]
          },
          "metadata": {
            "tags": [],
            "needs_background": "light"
          }
        },
        {
          "output_type": "display_data",
          "data": {
            "image/png": "[encoded data removed]",
            "text/plain": [
              "<Figure size 432x288 with 1 Axes>"
            ]
          },
          "metadata": {
            "tags": [],
            "needs_background": "light"
          }
        },
        {
          "output_type": "display_data",
          "data": {
            "image/png": "[encoded data removed]",
            "text/plain": [
              "<Figure size 432x288 with 1 Axes>"
            ]
          },
          "metadata": {
            "tags": [],
            "needs_background": "light"
          }
        },
        {
          "output_type": "display_data",
          "data": {
            "text/html": [
              "<div>\n",
              "<style scoped>\n",
              "    .dataframe tbody tr th:only-of-type {\n",
              "        vertical-align: middle;\n",
              "    }\n",
              "\n",
              "    .dataframe tbody tr th {\n",
              "        vertical-align: top;\n",
              "    }\n",
              "\n",
              "    .dataframe thead th {\n",
              "        text-align: right;\n",
              "    }\n",
              "</style>\n",
              "<table border=\"1\" class=\"dataframe\">\n",
              "  <thead>\n",
              "    <tr style=\"text-align: right;\">\n",
              "      <th></th>\n",
              "      <th>time</th>\n",
              "      <th>player</th>\n",
              "      <th>turn</th>\n",
              "      <th>red_turns</th>\n",
              "      <th>bonus_movements</th>\n",
              "    </tr>\n",
              "  </thead>\n",
              "  <tbody>\n",
              "    <tr>\n",
              "      <th>count</th>\n",
              "      <td>10000.000000</td>\n",
              "      <td>10000.000000</td>\n",
              "      <td>10000.000000</td>\n",
              "      <td>10000.000000</td>\n",
              "      <td>10000.000000</td>\n",
              "    </tr>\n",
              "    <tr>\n",
              "      <th>mean</th>\n",
              "      <td>18.386558</td>\n",
              "      <td>0.486800</td>\n",
              "      <td>63.406200</td>\n",
              "      <td>21.015400</td>\n",
              "      <td>-73.579900</td>\n",
              "    </tr>\n",
              "    <tr>\n",
              "      <th>std</th>\n",
              "      <td>4.697530</td>\n",
              "      <td>0.499851</td>\n",
              "      <td>16.097668</td>\n",
              "      <td>9.630672</td>\n",
              "      <td>36.248026</td>\n",
              "    </tr>\n",
              "    <tr>\n",
              "      <th>min</th>\n",
              "      <td>8.833333</td>\n",
              "      <td>0.000000</td>\n",
              "      <td>31.000000</td>\n",
              "      <td>1.000000</td>\n",
              "      <td>-340.000000</td>\n",
              "    </tr>\n",
              "    <tr>\n",
              "      <th>25%</th>\n",
              "      <td>15.166667</td>\n",
              "      <td>0.000000</td>\n",
              "      <td>52.000000</td>\n",
              "      <td>14.000000</td>\n",
              "      <td>-93.000000</td>\n",
              "    </tr>\n",
              "    <tr>\n",
              "      <th>50%</th>\n",
              "      <td>17.583333</td>\n",
              "      <td>0.000000</td>\n",
              "      <td>61.000000</td>\n",
              "      <td>20.000000</td>\n",
              "      <td>-67.000000</td>\n",
              "    </tr>\n",
              "    <tr>\n",
              "      <th>75%</th>\n",
              "      <td>21.000000</td>\n",
              "      <td>1.000000</td>\n",
              "      <td>72.000000</td>\n",
              "      <td>26.000000</td>\n",
              "      <td>-48.000000</td>\n",
              "    </tr>\n",
              "    <tr>\n",
              "      <th>max</th>\n",
              "      <td>52.000000</td>\n",
              "      <td>1.000000</td>\n",
              "      <td>179.000000</td>\n",
              "      <td>95.000000</td>\n",
              "      <td>-1.000000</td>\n",
              "    </tr>\n",
              "  </tbody>\n",
              "</table>\n",
              "</div>"
            ],
            "text/plain": [
              "               time        player          turn     red_turns  bonus_movements\n",
              "count  10000.000000  10000.000000  10000.000000  10000.000000     10000.000000\n",
              "mean      18.386558      0.486800     63.406200     21.015400       -73.579900\n",
              "std        4.697530      0.499851     16.097668      9.630672        36.248026\n",
              "min        8.833333      0.000000     31.000000      1.000000      -340.000000\n",
              "25%       15.166667      0.000000     52.000000     14.000000       -93.000000\n",
              "50%       17.583333      0.000000     61.000000     20.000000       -67.000000\n",
              "75%       21.000000      1.000000     72.000000     26.000000       -48.000000\n",
              "max       52.000000      1.000000    179.000000     95.000000        -1.000000"
            ]
          },
          "metadata": {
            "tags": []
          }
        }
      ]
    },
    {
      "cell_type": "code",
      "metadata": {
        "id": "-gmLgpD1n3ZI"
      },
      "source": [
        ""
      ],
      "execution_count": 19,
      "outputs": []
    }
  ]
}