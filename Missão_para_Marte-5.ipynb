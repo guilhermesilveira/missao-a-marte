{
  "nbformat": 4,
  "nbformat_minor": 0,
  "metadata": {
    "colab": {
      "name": "Missão para Marte",
      "provenance": [],
      "collapsed_sections": []
    },
    "kernelspec": {
      "name": "python3",
      "display_name": "Python 3"
    }
  },
  "cells": [
    {
      "cell_type": "markdown",
      "metadata": {
        "id": "byTae7kyVAWI"
      },
      "source": [
        "## Quanto tempo para terminar o jogo?\n",
        "\n",
        "## Qual a probabilidade dessa situação atual do jogo ser real? E não ser fabricada manualmente (= roubada)"
      ]
    },
    {
      "cell_type": "code",
      "metadata": {
        "id": "xfhZq6m0SXPD"
      },
      "source": [
        "import numpy as np\n",
        "\n",
        "# another approach is to use a set with the MARKED positions\n",
        "# card_positions = [4,8,12,16,19,25,30,33,36,41,44,47]\n",
        "\n",
        "board = [0] * 52\n",
        "board[4] = 1\n",
        "board[8] = 1\n",
        "board[12] = 1\n",
        "board[16] = 1\n",
        "board[19] = 1\n",
        "board[25] = 1\n",
        "board[30] = 1\n",
        "board[33] = 1\n",
        "board[36] = 1\n",
        "board[41] = 1\n",
        "board[44] = 1\n",
        "board[47] = 1\n",
        "board = np.array(board)"
      ],
      "execution_count": 1,
      "outputs": []
    },
    {
      "cell_type": "code",
      "metadata": {
        "id": "hu0eQ0_nW7Wj"
      },
      "source": [
        "# two variations\n",
        "\n",
        "BALANCED_CARDS = [ -6,-5,-4,-3,-2,-1,1,2,3,4,5,6]\n",
        "SLOW_CARDS = [-6,-5,-4,-3,-2,-1]\n",
        "ORIGINAL_CARDS = [-6, -5, -4, -3, -2, -1, 1, 2, 3, 3, 4, 6]"
      ],
      "execution_count": 2,
      "outputs": []
    },
    {
      "cell_type": "code",
      "metadata": {
        "id": "uN-S9yZFXinT"
      },
      "source": [
        "# regra assumida: quando você pega uma carta e usa, ela volta pra pilha, EMBARALHADA"
      ],
      "execution_count": 3,
      "outputs": []
    },
    {
      "cell_type": "code",
      "metadata": {
        "id": "ccQ9nEY5X-xF"
      },
      "source": [
        "DICE_FACES = 4"
      ],
      "execution_count": 4,
      "outputs": []
    },
    {
      "cell_type": "code",
      "metadata": {
        "id": "bGIiw7MHYe_U"
      },
      "source": [
        "np.random.seed(43354)\n",
        "\n",
        "class Game:\n",
        "  def __init__(self, players, board, player_time, cards = None):\n",
        "    self.players = players\n",
        "    self.board = board\n",
        "    self.cards = cards\n",
        "    if not self.cards:\n",
        "      self.cards = []\n",
        "    # current_player pode ser calculado atraves do turno\n",
        "    self.current_player = 0\n",
        "    self.turn = 1\n",
        "    self.player_position = np.array([0, 0])\n",
        "    self.player_time = player_time\n",
        "    self.current_time = 0\n",
        "    self.red_turns = 0\n",
        "    self.bonus_movements = 0\n",
        "\n",
        "  def limit(self, position):\n",
        "    return  min((len(self.board)-1), max(0, position))\n",
        "\n",
        "  def next_turn(self):\n",
        "\n",
        "    dice = np.random.choice(DICE_FACES) + 1\n",
        "    self.current_time += self.player_time[self.current_player]\n",
        "\n",
        "    position = self.limit(self.player_position[self.current_player] + dice)\n",
        "    while board[position] == 1 and len(self.cards) > 0:\n",
        "      card = np.random.choice(self.cards)\n",
        "      self.bonus_movements += card\n",
        "      self.red_turns += 1\n",
        "      position = self.limit(position + card)\n",
        "\n",
        "    self.player_position[self.current_player] = position\n",
        "\n",
        "    if position >= len(self.board) - 1:\n",
        "      return False\n",
        "\n",
        "    self.current_player = (self.current_player + 1) % self.players\n",
        "    self.turn += 1\n",
        "    return True\n"
      ],
      "execution_count": 5,
      "outputs": []
    },
    {
      "cell_type": "code",
      "metadata": {
        "id": "jgg9zsUTY2k0",
        "outputId": "f5e2eb98-c5ef-4522-9c23-6a76827cec62",
        "colab": {
          "base_uri": "https://localhost:8080/"
        }
      },
      "source": [
        "# o tempo em funcao do numero de jogadores?\n",
        "\n",
        "def simulate(player_time, cards=None):\n",
        "  game = Game(2, board, player_time=player_time, cards=cards)\n",
        "  while game.next_turn():\n",
        "    pass\n",
        "  return [game.current_time / 60.0, game.current_player, game.turn, game.player_position, game.red_turns, game.bonus_movements]\n",
        "simulate([5,30])"
      ],
      "execution_count": 6,
      "outputs": [
        {
          "output_type": "execute_result",
          "data": {
            "text/plain": [
              "[11.083333333333334, 1, 38, array([42, 51]), 0, 0]"
            ]
          },
          "metadata": {
            "tags": []
          },
          "execution_count": 6
        }
      ]
    },
    {
      "cell_type": "code",
      "metadata": {
        "id": "_oI8osVCZBCu"
      },
      "source": [
        "from tqdm import tqdm\n"
      ],
      "execution_count": 7,
      "outputs": []
    },
    {
      "cell_type": "code",
      "metadata": {
        "id": "yaShiKrgcj92",
        "outputId": "c9889cb5-5562-4f2f-af47-3e7bb311dabc",
        "colab": {
          "base_uri": "https://localhost:8080/",
          "height": 220
        }
      },
      "source": [
        "import pandas as pd\n",
        "\n",
        "np.random.seed(43278)\n",
        "results = [simulate([5,30]) for i in tqdm(range(10000))]\n",
        "results = pd.DataFrame(results, columns=[\"time\", \"player\", \"turn\", \"positions\", \"red_turns\", \"bonus_movements\"])\n",
        "results.head()"
      ],
      "execution_count": 8,
      "outputs": [
        {
          "output_type": "stream",
          "text": [
            "100%|██████████| 10000/10000 [00:03<00:00, 3127.71it/s]\n"
          ],
          "name": "stderr"
        },
        {
          "output_type": "execute_result",
          "data": {
            "text/html": [
              "<div>\n",
              "<style scoped>\n",
              "    .dataframe tbody tr th:only-of-type {\n",
              "        vertical-align: middle;\n",
              "    }\n",
              "\n",
              "    .dataframe tbody tr th {\n",
              "        vertical-align: top;\n",
              "    }\n",
              "\n",
              "    .dataframe thead th {\n",
              "        text-align: right;\n",
              "    }\n",
              "</style>\n",
              "<table border=\"1\" class=\"dataframe\">\n",
              "  <thead>\n",
              "    <tr style=\"text-align: right;\">\n",
              "      <th></th>\n",
              "      <th>time</th>\n",
              "      <th>player</th>\n",
              "      <th>turn</th>\n",
              "      <th>positions</th>\n",
              "      <th>red_turns</th>\n",
              "      <th>bonus_movements</th>\n",
              "    </tr>\n",
              "  </thead>\n",
              "  <tbody>\n",
              "    <tr>\n",
              "      <th>0</th>\n",
              "      <td>11.666667</td>\n",
              "      <td>1</td>\n",
              "      <td>40</td>\n",
              "      <td>[43, 51]</td>\n",
              "      <td>0</td>\n",
              "      <td>0</td>\n",
              "    </tr>\n",
              "    <tr>\n",
              "      <th>1</th>\n",
              "      <td>11.083333</td>\n",
              "      <td>1</td>\n",
              "      <td>38</td>\n",
              "      <td>[48, 51]</td>\n",
              "      <td>0</td>\n",
              "      <td>0</td>\n",
              "    </tr>\n",
              "    <tr>\n",
              "      <th>2</th>\n",
              "      <td>9.416667</td>\n",
              "      <td>0</td>\n",
              "      <td>33</td>\n",
              "      <td>[51, 35]</td>\n",
              "      <td>0</td>\n",
              "      <td>0</td>\n",
              "    </tr>\n",
              "    <tr>\n",
              "      <th>3</th>\n",
              "      <td>10.583333</td>\n",
              "      <td>0</td>\n",
              "      <td>37</td>\n",
              "      <td>[51, 46]</td>\n",
              "      <td>0</td>\n",
              "      <td>0</td>\n",
              "    </tr>\n",
              "    <tr>\n",
              "      <th>4</th>\n",
              "      <td>10.583333</td>\n",
              "      <td>0</td>\n",
              "      <td>37</td>\n",
              "      <td>[51, 43]</td>\n",
              "      <td>0</td>\n",
              "      <td>0</td>\n",
              "    </tr>\n",
              "  </tbody>\n",
              "</table>\n",
              "</div>"
            ],
            "text/plain": [
              "        time  player  turn positions  red_turns  bonus_movements\n",
              "0  11.666667       1    40  [43, 51]          0                0\n",
              "1  11.083333       1    38  [48, 51]          0                0\n",
              "2   9.416667       0    33  [51, 35]          0                0\n",
              "3  10.583333       0    37  [51, 46]          0                0\n",
              "4  10.583333       0    37  [51, 43]          0                0"
            ]
          },
          "metadata": {
            "tags": []
          },
          "execution_count": 8
        }
      ]
    },
    {
      "cell_type": "code",
      "metadata": {
        "id": "LT5KGOGacpW8",
        "outputId": "c3ce341c-c20f-49f8-bc41-92d505d4bd3b",
        "colab": {
          "base_uri": "https://localhost:8080/"
        }
      },
      "source": [
        "results.mean()"
      ],
      "execution_count": null,
      "outputs": [
        {
          "output_type": "execute_result",
          "data": {
            "text/plain": [
              "time                          11.1873\n",
              "player                         0.4179\n",
              "turn                          38.7721\n",
              "positions          [48.7184, 47.2275]\n",
              "red_turns                           0\n",
              "bonus_movements                     0\n",
              "dtype: object"
            ]
          },
          "metadata": {
            "tags": []
          },
          "execution_count": 9
        }
      ]
    },
    {
      "cell_type": "markdown",
      "metadata": {
        "id": "e02gUgB0dHof"
      },
      "source": [
        "## O jogador inicial tem vantagem!\n",
        "\n",
        "## Em média vão ser 38.7 jogadas e 11 minutos. Mas não existe 38.7 jogadas!"
      ]
    },
    {
      "cell_type": "code",
      "metadata": {
        "id": "6Hg8YVcGdBC2",
        "outputId": "ddfda266-4419-4923-ddaf-73e1bc9d62e2",
        "colab": {
          "base_uri": "https://localhost:8080/",
          "height": 282
        }
      },
      "source": [
        "results['time'].plot(kind='hist')"
      ],
      "execution_count": null,
      "outputs": [
        {
          "output_type": "execute_result",
          "data": {
            "text/plain": [
              "<matplotlib.axes._subplots.AxesSubplot at 0x7f222636d0f0>"
            ]
          },
          "metadata": {
            "tags": []
          },
          "execution_count": 10
        },
        {
          "output_type": "display_data",
          "data": {
            "image/png": "[encoded data removed]",
            "text/plain": [
              "<Figure size 432x288 with 1 Axes>"
            ]
          },
          "metadata": {
            "tags": [],
            "needs_background": "light"
          }
        }
      ]
    },
    {
      "cell_type": "code",
      "metadata": {
        "id": "EQBRsuV8dRNk",
        "outputId": "131ebd8d-967d-4f12-8082-67ec627bf26b",
        "colab": {
          "base_uri": "https://localhost:8080/",
          "height": 282
        }
      },
      "source": [
        "results['turn'].plot(kind='hist')"
      ],
      "execution_count": null,
      "outputs": [
        {
          "output_type": "execute_result",
          "data": {
            "text/plain": [
              "<matplotlib.axes._subplots.AxesSubplot at 0x7f2226be8be0>"
            ]
          },
          "metadata": {
            "tags": []
          },
          "execution_count": 11
        },
        {
          "output_type": "display_data",
          "data": {
            "image/png": "[encoded data removed]",
            "text/plain": [
              "<Figure size 432x288 with 1 Axes>"
            ]
          },
          "metadata": {
            "tags": [],
            "needs_background": "light"
          }
        }
      ]
    },
    {
      "cell_type": "code",
      "metadata": {
        "id": "IErqcPJNduRN",
        "outputId": "cbf1b259-41fc-4f34-cc18-e12b2b68483f",
        "colab": {
          "base_uri": "https://localhost:8080/",
          "height": 282
        }
      },
      "source": [
        "results['player'].plot(kind='hist')"
      ],
      "execution_count": null,
      "outputs": [
        {
          "output_type": "execute_result",
          "data": {
            "text/plain": [
              "<matplotlib.axes._subplots.AxesSubplot at 0x7f2225ca4160>"
            ]
          },
          "metadata": {
            "tags": []
          },
          "execution_count": 12
        },
        {
          "output_type": "display_data",
          "data": {
            "image/png": "[encoded data removed]",
            "text/plain": [
              "<Figure size 432x288 with 1 Axes>"
            ]
          },
          "metadata": {
            "tags": [],
            "needs_background": "light"
          }
        }
      ]
    },
    {
      "cell_type": "code",
      "metadata": {
        "id": "chtYi3Sodxxl"
      },
      "source": [
        "import matplotlib.pyplot as plt\n",
        "\n",
        "def run_simulation_for(player_time, cards=None, plot = True, describe=True):\n",
        "  np.random.seed(574983)\n",
        "  results = [simulate(player_time, cards=cards) for i in tqdm(range(10000))]\n",
        "  results = pd.DataFrame(results, columns=[\"time\", \"player\", \"turn\", \"positions\", \"red_turns\", \"bonus_movements\"])\n",
        "\n",
        "  if plot:\n",
        "    results['player'].plot(kind='hist')\n",
        "    plt.show()\n",
        "    results['turn'].plot(kind='hist')\n",
        "    plt.show()\n",
        "    results['time'].plot(kind='hist')\n",
        "    plt.show()\n",
        "  if describe:\n",
        "    display(results.describe())\n",
        "  return results"
      ],
      "execution_count": null,
      "outputs": []
    },
    {
      "cell_type": "code",
      "metadata": {
        "id": "uHhWwlngeNNm",
        "outputId": "027ac950-c9ec-462e-f74e-682a0bf92b7e",
        "colab": {
          "base_uri": "https://localhost:8080/",
          "height": 1000
        }
      },
      "source": [
        "run_simulation_for([5,30]);"
      ],
      "execution_count": null,
      "outputs": [
        {
          "output_type": "stream",
          "text": [
            "100%|██████████| 10000/10000 [00:03<00:00, 3234.01it/s]\n"
          ],
          "name": "stderr"
        },
        {
          "output_type": "display_data",
          "data": {
            "image/png": "[encoded data removed]",
            "text/plain": [
              "<Figure size 432x288 with 1 Axes>"
            ]
          },
          "metadata": {
            "tags": [],
            "needs_background": "light"
          }
        },
        {
          "output_type": "display_data",
          "data": {
            "image/png": "[encoded data removed]",
            "text/plain": [
              "<Figure size 432x288 with 1 Axes>"
            ]
          },
          "metadata": {
            "tags": [],
            "needs_background": "light"
          }
        },
        {
          "output_type": "display_data",
          "data": {
            "image/png": "[encoded data removed]",
            "text/plain": [
              "<Figure size 432x288 with 1 Axes>"
            ]
          },
          "metadata": {
            "tags": [],
            "needs_background": "light"
          }
        },
        {
          "output_type": "display_data",
          "data": {
            "text/html": [
              "<div>\n",
              "<style scoped>\n",
              "    .dataframe tbody tr th:only-of-type {\n",
              "        vertical-align: middle;\n",
              "    }\n",
              "\n",
              "    .dataframe tbody tr th {\n",
              "        vertical-align: top;\n",
              "    }\n",
              "\n",
              "    .dataframe thead th {\n",
              "        text-align: right;\n",
              "    }\n",
              "</style>\n",
              "<table border=\"1\" class=\"dataframe\">\n",
              "  <thead>\n",
              "    <tr style=\"text-align: right;\">\n",
              "      <th></th>\n",
              "      <th>time</th>\n",
              "      <th>player</th>\n",
              "      <th>turn</th>\n",
              "      <th>red_turns</th>\n",
              "      <th>bonus_movements</th>\n",
              "    </tr>\n",
              "  </thead>\n",
              "  <tbody>\n",
              "    <tr>\n",
              "      <th>count</th>\n",
              "      <td>10000.000000</td>\n",
              "      <td>10000.000000</td>\n",
              "      <td>10000.000000</td>\n",
              "      <td>10000.0</td>\n",
              "      <td>10000.0</td>\n",
              "    </tr>\n",
              "    <tr>\n",
              "      <th>mean</th>\n",
              "      <td>11.176942</td>\n",
              "      <td>0.432500</td>\n",
              "      <td>38.726300</td>\n",
              "      <td>0.0</td>\n",
              "      <td>0.0</td>\n",
              "    </tr>\n",
              "    <tr>\n",
              "      <th>std</th>\n",
              "      <td>0.938455</td>\n",
              "      <td>0.495448</td>\n",
              "      <td>3.172412</td>\n",
              "      <td>0.0</td>\n",
              "      <td>0.0</td>\n",
              "    </tr>\n",
              "    <tr>\n",
              "      <th>min</th>\n",
              "      <td>8.166667</td>\n",
              "      <td>0.000000</td>\n",
              "      <td>28.000000</td>\n",
              "      <td>0.0</td>\n",
              "      <td>0.0</td>\n",
              "    </tr>\n",
              "    <tr>\n",
              "      <th>25%</th>\n",
              "      <td>10.583333</td>\n",
              "      <td>0.000000</td>\n",
              "      <td>37.000000</td>\n",
              "      <td>0.0</td>\n",
              "      <td>0.0</td>\n",
              "    </tr>\n",
              "    <tr>\n",
              "      <th>50%</th>\n",
              "      <td>11.166667</td>\n",
              "      <td>0.000000</td>\n",
              "      <td>39.000000</td>\n",
              "      <td>0.0</td>\n",
              "      <td>0.0</td>\n",
              "    </tr>\n",
              "    <tr>\n",
              "      <th>75%</th>\n",
              "      <td>11.750000</td>\n",
              "      <td>1.000000</td>\n",
              "      <td>41.000000</td>\n",
              "      <td>0.0</td>\n",
              "      <td>0.0</td>\n",
              "    </tr>\n",
              "    <tr>\n",
              "      <th>max</th>\n",
              "      <td>15.166667</td>\n",
              "      <td>1.000000</td>\n",
              "      <td>52.000000</td>\n",
              "      <td>0.0</td>\n",
              "      <td>0.0</td>\n",
              "    </tr>\n",
              "  </tbody>\n",
              "</table>\n",
              "</div>"
            ],
            "text/plain": [
              "               time        player          turn  red_turns  bonus_movements\n",
              "count  10000.000000  10000.000000  10000.000000    10000.0          10000.0\n",
              "mean      11.176942      0.432500     38.726300        0.0              0.0\n",
              "std        0.938455      0.495448      3.172412        0.0              0.0\n",
              "min        8.166667      0.000000     28.000000        0.0              0.0\n",
              "25%       10.583333      0.000000     37.000000        0.0              0.0\n",
              "50%       11.166667      0.000000     39.000000        0.0              0.0\n",
              "75%       11.750000      1.000000     41.000000        0.0              0.0\n",
              "max       15.166667      1.000000     52.000000        0.0              0.0"
            ]
          },
          "metadata": {
            "tags": []
          }
        }
      ]
    },
    {
      "cell_type": "code",
      "metadata": {
        "id": "yARdl2ZNnLv_",
        "outputId": "d2270116-f1b2-4d35-87de-e2d1c74ce146",
        "colab": {
          "base_uri": "https://localhost:8080/"
        }
      },
      "source": [
        "np.array(ORIGINAL_CARDS).mean()"
      ],
      "execution_count": null,
      "outputs": [
        {
          "output_type": "execute_result",
          "data": {
            "text/plain": [
              "-0.16666666666666666"
            ]
          },
          "metadata": {
            "tags": []
          },
          "execution_count": 15
        }
      ]
    },
    {
      "cell_type": "code",
      "metadata": {
        "id": "yx2sot_ZeOWN",
        "outputId": "bec7e398-f581-47d3-b561-4efbf07b23fe",
        "colab": {
          "base_uri": "https://localhost:8080/",
          "height": 312
        }
      },
      "source": [
        "run_simulation_for([30,5], plot=False);"
      ],
      "execution_count": null,
      "outputs": [
        {
          "output_type": "stream",
          "text": [
            "100%|██████████| 10000/10000 [00:03<00:00, 3290.87it/s]\n"
          ],
          "name": "stderr"
        },
        {
          "output_type": "display_data",
          "data": {
            "text/html": [
              "<div>\n",
              "<style scoped>\n",
              "    .dataframe tbody tr th:only-of-type {\n",
              "        vertical-align: middle;\n",
              "    }\n",
              "\n",
              "    .dataframe tbody tr th {\n",
              "        vertical-align: top;\n",
              "    }\n",
              "\n",
              "    .dataframe thead th {\n",
              "        text-align: right;\n",
              "    }\n",
              "</style>\n",
              "<table border=\"1\" class=\"dataframe\">\n",
              "  <thead>\n",
              "    <tr style=\"text-align: right;\">\n",
              "      <th></th>\n",
              "      <th>time</th>\n",
              "      <th>player</th>\n",
              "      <th>turn</th>\n",
              "      <th>red_turns</th>\n",
              "      <th>bonus_movements</th>\n",
              "    </tr>\n",
              "  </thead>\n",
              "  <tbody>\n",
              "    <tr>\n",
              "      <th>count</th>\n",
              "      <td>10000.000000</td>\n",
              "      <td>10000.000000</td>\n",
              "      <td>10000.000000</td>\n",
              "      <td>10000.0</td>\n",
              "      <td>10000.0</td>\n",
              "    </tr>\n",
              "    <tr>\n",
              "      <th>mean</th>\n",
              "      <td>11.413400</td>\n",
              "      <td>0.432500</td>\n",
              "      <td>38.726300</td>\n",
              "      <td>0.0</td>\n",
              "      <td>0.0</td>\n",
              "    </tr>\n",
              "    <tr>\n",
              "      <th>std</th>\n",
              "      <td>0.923537</td>\n",
              "      <td>0.495448</td>\n",
              "      <td>3.172412</td>\n",
              "      <td>0.0</td>\n",
              "      <td>0.0</td>\n",
              "    </tr>\n",
              "    <tr>\n",
              "      <th>min</th>\n",
              "      <td>8.166667</td>\n",
              "      <td>0.000000</td>\n",
              "      <td>28.000000</td>\n",
              "      <td>0.0</td>\n",
              "      <td>0.0</td>\n",
              "    </tr>\n",
              "    <tr>\n",
              "      <th>25%</th>\n",
              "      <td>11.000000</td>\n",
              "      <td>0.000000</td>\n",
              "      <td>37.000000</td>\n",
              "      <td>0.0</td>\n",
              "      <td>0.0</td>\n",
              "    </tr>\n",
              "    <tr>\n",
              "      <th>50%</th>\n",
              "      <td>11.583333</td>\n",
              "      <td>0.000000</td>\n",
              "      <td>39.000000</td>\n",
              "      <td>0.0</td>\n",
              "      <td>0.0</td>\n",
              "    </tr>\n",
              "    <tr>\n",
              "      <th>75%</th>\n",
              "      <td>12.166667</td>\n",
              "      <td>1.000000</td>\n",
              "      <td>41.000000</td>\n",
              "      <td>0.0</td>\n",
              "      <td>0.0</td>\n",
              "    </tr>\n",
              "    <tr>\n",
              "      <th>max</th>\n",
              "      <td>15.166667</td>\n",
              "      <td>1.000000</td>\n",
              "      <td>52.000000</td>\n",
              "      <td>0.0</td>\n",
              "      <td>0.0</td>\n",
              "    </tr>\n",
              "  </tbody>\n",
              "</table>\n",
              "</div>"
            ],
            "text/plain": [
              "               time        player          turn  red_turns  bonus_movements\n",
              "count  10000.000000  10000.000000  10000.000000    10000.0          10000.0\n",
              "mean      11.413400      0.432500     38.726300        0.0              0.0\n",
              "std        0.923537      0.495448      3.172412        0.0              0.0\n",
              "min        8.166667      0.000000     28.000000        0.0              0.0\n",
              "25%       11.000000      0.000000     37.000000        0.0              0.0\n",
              "50%       11.583333      0.000000     39.000000        0.0              0.0\n",
              "75%       12.166667      1.000000     41.000000        0.0              0.0\n",
              "max       15.166667      1.000000     52.000000        0.0              0.0"
            ]
          },
          "metadata": {
            "tags": []
          }
        }
      ]
    },
    {
      "cell_type": "code",
      "metadata": {
        "id": "FWP1Mz3berJ-",
        "outputId": "357b26da-ebba-4069-d0d0-51256057ce50",
        "colab": {
          "base_uri": "https://localhost:8080/",
          "height": 312
        }
      },
      "source": [
        "run_simulation_for([5,30], cards=ORIGINAL_CARDS, plot=False);"
      ],
      "execution_count": null,
      "outputs": [
        {
          "output_type": "stream",
          "text": [
            "100%|██████████| 10000/10000 [00:04<00:00, 2468.20it/s]\n"
          ],
          "name": "stderr"
        },
        {
          "output_type": "display_data",
          "data": {
            "text/html": [
              "<div>\n",
              "<style scoped>\n",
              "    .dataframe tbody tr th:only-of-type {\n",
              "        vertical-align: middle;\n",
              "    }\n",
              "\n",
              "    .dataframe tbody tr th {\n",
              "        vertical-align: top;\n",
              "    }\n",
              "\n",
              "    .dataframe thead th {\n",
              "        text-align: right;\n",
              "    }\n",
              "</style>\n",
              "<table border=\"1\" class=\"dataframe\">\n",
              "  <thead>\n",
              "    <tr style=\"text-align: right;\">\n",
              "      <th></th>\n",
              "      <th>time</th>\n",
              "      <th>player</th>\n",
              "      <th>turn</th>\n",
              "      <th>red_turns</th>\n",
              "      <th>bonus_movements</th>\n",
              "    </tr>\n",
              "  </thead>\n",
              "  <tbody>\n",
              "    <tr>\n",
              "      <th>count</th>\n",
              "      <td>10000.000000</td>\n",
              "      <td>10000.000000</td>\n",
              "      <td>10000.000000</td>\n",
              "      <td>10000.000000</td>\n",
              "      <td>10000.000000</td>\n",
              "    </tr>\n",
              "    <tr>\n",
              "      <th>mean</th>\n",
              "      <td>10.676300</td>\n",
              "      <td>0.466400</td>\n",
              "      <td>36.985600</td>\n",
              "      <td>12.368700</td>\n",
              "      <td>-2.098200</td>\n",
              "    </tr>\n",
              "    <tr>\n",
              "      <th>std</th>\n",
              "      <td>1.852329</td>\n",
              "      <td>0.498895</td>\n",
              "      <td>6.324602</td>\n",
              "      <td>4.260044</td>\n",
              "      <td>13.321513</td>\n",
              "    </tr>\n",
              "    <tr>\n",
              "      <th>min</th>\n",
              "      <td>4.750000</td>\n",
              "      <td>0.000000</td>\n",
              "      <td>17.000000</td>\n",
              "      <td>2.000000</td>\n",
              "      <td>-70.000000</td>\n",
              "    </tr>\n",
              "    <tr>\n",
              "      <th>25%</th>\n",
              "      <td>9.416667</td>\n",
              "      <td>0.000000</td>\n",
              "      <td>33.000000</td>\n",
              "      <td>9.000000</td>\n",
              "      <td>-11.000000</td>\n",
              "    </tr>\n",
              "    <tr>\n",
              "      <th>50%</th>\n",
              "      <td>10.583333</td>\n",
              "      <td>0.000000</td>\n",
              "      <td>37.000000</td>\n",
              "      <td>12.000000</td>\n",
              "      <td>-1.000000</td>\n",
              "    </tr>\n",
              "    <tr>\n",
              "      <th>75%</th>\n",
              "      <td>11.750000</td>\n",
              "      <td>1.000000</td>\n",
              "      <td>41.000000</td>\n",
              "      <td>15.000000</td>\n",
              "      <td>7.000000</td>\n",
              "    </tr>\n",
              "    <tr>\n",
              "      <th>max</th>\n",
              "      <td>19.250000</td>\n",
              "      <td>1.000000</td>\n",
              "      <td>66.000000</td>\n",
              "      <td>33.000000</td>\n",
              "      <td>42.000000</td>\n",
              "    </tr>\n",
              "  </tbody>\n",
              "</table>\n",
              "</div>"
            ],
            "text/plain": [
              "               time        player          turn     red_turns  bonus_movements\n",
              "count  10000.000000  10000.000000  10000.000000  10000.000000     10000.000000\n",
              "mean      10.676300      0.466400     36.985600     12.368700        -2.098200\n",
              "std        1.852329      0.498895      6.324602      4.260044        13.321513\n",
              "min        4.750000      0.000000     17.000000      2.000000       -70.000000\n",
              "25%        9.416667      0.000000     33.000000      9.000000       -11.000000\n",
              "50%       10.583333      0.000000     37.000000     12.000000        -1.000000\n",
              "75%       11.750000      1.000000     41.000000     15.000000         7.000000\n",
              "max       19.250000      1.000000     66.000000     33.000000        42.000000"
            ]
          },
          "metadata": {
            "tags": []
          }
        }
      ]
    },
    {
      "cell_type": "code",
      "metadata": {
        "id": "leedctKxno1x",
        "outputId": "606fab28-50dc-4285-f3c9-87e9f80aff53",
        "colab": {
          "base_uri": "https://localhost:8080/",
          "height": 312
        }
      },
      "source": [
        "run_simulation_for([5,30], cards=BALANCED_CARDS, plot=False);"
      ],
      "execution_count": null,
      "outputs": [
        {
          "output_type": "stream",
          "text": [
            "100%|██████████| 10000/10000 [00:03<00:00, 2564.10it/s]\n"
          ],
          "name": "stderr"
        },
        {
          "output_type": "display_data",
          "data": {
            "text/html": [
              "<div>\n",
              "<style scoped>\n",
              "    .dataframe tbody tr th:only-of-type {\n",
              "        vertical-align: middle;\n",
              "    }\n",
              "\n",
              "    .dataframe tbody tr th {\n",
              "        vertical-align: top;\n",
              "    }\n",
              "\n",
              "    .dataframe thead th {\n",
              "        text-align: right;\n",
              "    }\n",
              "</style>\n",
              "<table border=\"1\" class=\"dataframe\">\n",
              "  <thead>\n",
              "    <tr style=\"text-align: right;\">\n",
              "      <th></th>\n",
              "      <th>time</th>\n",
              "      <th>player</th>\n",
              "      <th>turn</th>\n",
              "      <th>red_turns</th>\n",
              "      <th>bonus_movements</th>\n",
              "    </tr>\n",
              "  </thead>\n",
              "  <tbody>\n",
              "    <tr>\n",
              "      <th>count</th>\n",
              "      <td>10000.000000</td>\n",
              "      <td>10000.000000</td>\n",
              "      <td>10000.00000</td>\n",
              "      <td>10000.000000</td>\n",
              "      <td>10000.000000</td>\n",
              "    </tr>\n",
              "    <tr>\n",
              "      <th>mean</th>\n",
              "      <td>10.408208</td>\n",
              "      <td>0.475400</td>\n",
              "      <td>36.06000</td>\n",
              "      <td>11.787700</td>\n",
              "      <td>-0.023500</td>\n",
              "    </tr>\n",
              "    <tr>\n",
              "      <th>std</th>\n",
              "      <td>1.844542</td>\n",
              "      <td>0.499419</td>\n",
              "      <td>6.29814</td>\n",
              "      <td>4.103646</td>\n",
              "      <td>13.246482</td>\n",
              "    </tr>\n",
              "    <tr>\n",
              "      <th>min</th>\n",
              "      <td>4.666667</td>\n",
              "      <td>0.000000</td>\n",
              "      <td>16.00000</td>\n",
              "      <td>2.000000</td>\n",
              "      <td>-66.000000</td>\n",
              "    </tr>\n",
              "    <tr>\n",
              "      <th>25%</th>\n",
              "      <td>9.333333</td>\n",
              "      <td>0.000000</td>\n",
              "      <td>32.00000</td>\n",
              "      <td>9.000000</td>\n",
              "      <td>-8.000000</td>\n",
              "    </tr>\n",
              "    <tr>\n",
              "      <th>50%</th>\n",
              "      <td>10.500000</td>\n",
              "      <td>0.000000</td>\n",
              "      <td>36.00000</td>\n",
              "      <td>11.000000</td>\n",
              "      <td>1.000000</td>\n",
              "    </tr>\n",
              "    <tr>\n",
              "      <th>75%</th>\n",
              "      <td>11.666667</td>\n",
              "      <td>1.000000</td>\n",
              "      <td>40.00000</td>\n",
              "      <td>14.000000</td>\n",
              "      <td>9.000000</td>\n",
              "    </tr>\n",
              "    <tr>\n",
              "      <th>max</th>\n",
              "      <td>20.500000</td>\n",
              "      <td>1.000000</td>\n",
              "      <td>71.00000</td>\n",
              "      <td>34.000000</td>\n",
              "      <td>40.000000</td>\n",
              "    </tr>\n",
              "  </tbody>\n",
              "</table>\n",
              "</div>"
            ],
            "text/plain": [
              "               time        player         turn     red_turns  bonus_movements\n",
              "count  10000.000000  10000.000000  10000.00000  10000.000000     10000.000000\n",
              "mean      10.408208      0.475400     36.06000     11.787700        -0.023500\n",
              "std        1.844542      0.499419      6.29814      4.103646        13.246482\n",
              "min        4.666667      0.000000     16.00000      2.000000       -66.000000\n",
              "25%        9.333333      0.000000     32.00000      9.000000        -8.000000\n",
              "50%       10.500000      0.000000     36.00000     11.000000         1.000000\n",
              "75%       11.666667      1.000000     40.00000     14.000000         9.000000\n",
              "max       20.500000      1.000000     71.00000     34.000000        40.000000"
            ]
          },
          "metadata": {
            "tags": []
          }
        }
      ]
    },
    {
      "cell_type": "code",
      "metadata": {
        "id": "ye3ctljcnp03",
        "outputId": "fc235f87-6ee0-4311-c745-fd34e05fa6e5",
        "colab": {
          "base_uri": "https://localhost:8080/",
          "height": 312
        }
      },
      "source": [
        "run_simulation_for([5,30], cards=SLOW_CARDS, plot=False);"
      ],
      "execution_count": null,
      "outputs": [
        {
          "output_type": "stream",
          "text": [
            "100%|██████████| 10000/10000 [00:06<00:00, 1505.35it/s]\n"
          ],
          "name": "stderr"
        },
        {
          "output_type": "display_data",
          "data": {
            "text/html": [
              "<div>\n",
              "<style scoped>\n",
              "    .dataframe tbody tr th:only-of-type {\n",
              "        vertical-align: middle;\n",
              "    }\n",
              "\n",
              "    .dataframe tbody tr th {\n",
              "        vertical-align: top;\n",
              "    }\n",
              "\n",
              "    .dataframe thead th {\n",
              "        text-align: right;\n",
              "    }\n",
              "</style>\n",
              "<table border=\"1\" class=\"dataframe\">\n",
              "  <thead>\n",
              "    <tr style=\"text-align: right;\">\n",
              "      <th></th>\n",
              "      <th>time</th>\n",
              "      <th>player</th>\n",
              "      <th>turn</th>\n",
              "      <th>red_turns</th>\n",
              "      <th>bonus_movements</th>\n",
              "    </tr>\n",
              "  </thead>\n",
              "  <tbody>\n",
              "    <tr>\n",
              "      <th>count</th>\n",
              "      <td>10000.000000</td>\n",
              "      <td>10000.000000</td>\n",
              "      <td>10000.000000</td>\n",
              "      <td>10000.000000</td>\n",
              "      <td>10000.000000</td>\n",
              "    </tr>\n",
              "    <tr>\n",
              "      <th>mean</th>\n",
              "      <td>18.386558</td>\n",
              "      <td>0.486800</td>\n",
              "      <td>63.406200</td>\n",
              "      <td>21.015400</td>\n",
              "      <td>-73.579900</td>\n",
              "    </tr>\n",
              "    <tr>\n",
              "      <th>std</th>\n",
              "      <td>4.697530</td>\n",
              "      <td>0.499851</td>\n",
              "      <td>16.097668</td>\n",
              "      <td>9.630672</td>\n",
              "      <td>36.248026</td>\n",
              "    </tr>\n",
              "    <tr>\n",
              "      <th>min</th>\n",
              "      <td>8.833333</td>\n",
              "      <td>0.000000</td>\n",
              "      <td>31.000000</td>\n",
              "      <td>1.000000</td>\n",
              "      <td>-340.000000</td>\n",
              "    </tr>\n",
              "    <tr>\n",
              "      <th>25%</th>\n",
              "      <td>15.166667</td>\n",
              "      <td>0.000000</td>\n",
              "      <td>52.000000</td>\n",
              "      <td>14.000000</td>\n",
              "      <td>-93.000000</td>\n",
              "    </tr>\n",
              "    <tr>\n",
              "      <th>50%</th>\n",
              "      <td>17.583333</td>\n",
              "      <td>0.000000</td>\n",
              "      <td>61.000000</td>\n",
              "      <td>20.000000</td>\n",
              "      <td>-67.000000</td>\n",
              "    </tr>\n",
              "    <tr>\n",
              "      <th>75%</th>\n",
              "      <td>21.000000</td>\n",
              "      <td>1.000000</td>\n",
              "      <td>72.000000</td>\n",
              "      <td>26.000000</td>\n",
              "      <td>-48.000000</td>\n",
              "    </tr>\n",
              "    <tr>\n",
              "      <th>max</th>\n",
              "      <td>52.000000</td>\n",
              "      <td>1.000000</td>\n",
              "      <td>179.000000</td>\n",
              "      <td>95.000000</td>\n",
              "      <td>-1.000000</td>\n",
              "    </tr>\n",
              "  </tbody>\n",
              "</table>\n",
              "</div>"
            ],
            "text/plain": [
              "               time        player          turn     red_turns  bonus_movements\n",
              "count  10000.000000  10000.000000  10000.000000  10000.000000     10000.000000\n",
              "mean      18.386558      0.486800     63.406200     21.015400       -73.579900\n",
              "std        4.697530      0.499851     16.097668      9.630672        36.248026\n",
              "min        8.833333      0.000000     31.000000      1.000000      -340.000000\n",
              "25%       15.166667      0.000000     52.000000     14.000000       -93.000000\n",
              "50%       17.583333      0.000000     61.000000     20.000000       -67.000000\n",
              "75%       21.000000      1.000000     72.000000     26.000000       -48.000000\n",
              "max       52.000000      1.000000    179.000000     95.000000        -1.000000"
            ]
          },
          "metadata": {
            "tags": []
          }
        }
      ]
    },
    {
      "cell_type": "code",
      "metadata": {
        "id": "-gmLgpD1n3ZI",
        "outputId": "a4c33cfa-d75c-4887-9910-8e39ea2418c4",
        "colab": {
          "base_uri": "https://localhost:8080/",
          "height": 312
        }
      },
      "source": [
        "run_simulation_for([5,30], cards=[-4, -3], plot=False);"
      ],
      "execution_count": null,
      "outputs": [
        {
          "output_type": "stream",
          "text": [
            "100%|██████████| 10000/10000 [00:07<00:00, 1257.36it/s]\n"
          ],
          "name": "stderr"
        },
        {
          "output_type": "display_data",
          "data": {
            "text/html": [
              "<div>\n",
              "<style scoped>\n",
              "    .dataframe tbody tr th:only-of-type {\n",
              "        vertical-align: middle;\n",
              "    }\n",
              "\n",
              "    .dataframe tbody tr th {\n",
              "        vertical-align: top;\n",
              "    }\n",
              "\n",
              "    .dataframe thead th {\n",
              "        text-align: right;\n",
              "    }\n",
              "</style>\n",
              "<table border=\"1\" class=\"dataframe\">\n",
              "  <thead>\n",
              "    <tr style=\"text-align: right;\">\n",
              "      <th></th>\n",
              "      <th>time</th>\n",
              "      <th>player</th>\n",
              "      <th>turn</th>\n",
              "      <th>red_turns</th>\n",
              "      <th>bonus_movements</th>\n",
              "    </tr>\n",
              "  </thead>\n",
              "  <tbody>\n",
              "    <tr>\n",
              "      <th>count</th>\n",
              "      <td>10000.000000</td>\n",
              "      <td>10000.000000</td>\n",
              "      <td>10000.000000</td>\n",
              "      <td>10000.0000</td>\n",
              "      <td>10000.000</td>\n",
              "    </tr>\n",
              "    <tr>\n",
              "      <th>mean</th>\n",
              "      <td>21.363267</td>\n",
              "      <td>0.499200</td>\n",
              "      <td>73.603200</td>\n",
              "      <td>28.6644</td>\n",
              "      <td>-100.282</td>\n",
              "    </tr>\n",
              "    <tr>\n",
              "      <th>std</th>\n",
              "      <td>6.133483</td>\n",
              "      <td>0.500024</td>\n",
              "      <td>21.021235</td>\n",
              "      <td>13.5621</td>\n",
              "      <td>47.705</td>\n",
              "    </tr>\n",
              "    <tr>\n",
              "      <th>min</th>\n",
              "      <td>8.833333</td>\n",
              "      <td>0.000000</td>\n",
              "      <td>31.000000</td>\n",
              "      <td>0.0000</td>\n",
              "      <td>-343.000</td>\n",
              "    </tr>\n",
              "    <tr>\n",
              "      <th>25%</th>\n",
              "      <td>16.916667</td>\n",
              "      <td>0.000000</td>\n",
              "      <td>58.000000</td>\n",
              "      <td>19.0000</td>\n",
              "      <td>-127.000</td>\n",
              "    </tr>\n",
              "    <tr>\n",
              "      <th>50%</th>\n",
              "      <td>20.416667</td>\n",
              "      <td>0.000000</td>\n",
              "      <td>70.000000</td>\n",
              "      <td>27.0000</td>\n",
              "      <td>-93.000</td>\n",
              "    </tr>\n",
              "    <tr>\n",
              "      <th>75%</th>\n",
              "      <td>24.708333</td>\n",
              "      <td>1.000000</td>\n",
              "      <td>85.250000</td>\n",
              "      <td>36.0000</td>\n",
              "      <td>-66.000</td>\n",
              "    </tr>\n",
              "    <tr>\n",
              "      <th>max</th>\n",
              "      <td>57.166667</td>\n",
              "      <td>1.000000</td>\n",
              "      <td>196.000000</td>\n",
              "      <td>99.0000</td>\n",
              "      <td>0.000</td>\n",
              "    </tr>\n",
              "  </tbody>\n",
              "</table>\n",
              "</div>"
            ],
            "text/plain": [
              "               time        player          turn   red_turns  bonus_movements\n",
              "count  10000.000000  10000.000000  10000.000000  10000.0000        10000.000\n",
              "mean      21.363267      0.499200     73.603200     28.6644         -100.282\n",
              "std        6.133483      0.500024     21.021235     13.5621           47.705\n",
              "min        8.833333      0.000000     31.000000      0.0000         -343.000\n",
              "25%       16.916667      0.000000     58.000000     19.0000         -127.000\n",
              "50%       20.416667      0.000000     70.000000     27.0000          -93.000\n",
              "75%       24.708333      1.000000     85.250000     36.0000          -66.000\n",
              "max       57.166667      1.000000    196.000000     99.0000            0.000"
            ]
          },
          "metadata": {
            "tags": []
          }
        }
      ]
    },
    {
      "cell_type": "code",
      "metadata": {
        "id": "_Pk8SgQdsdBv",
        "outputId": "3b8f1979-f931-4100-c39e-8bbc5735ffeb",
        "colab": {
          "base_uri": "https://localhost:8080/",
          "height": 312
        }
      },
      "source": [
        "run_simulation_for([5,30], cards=[-4, -3, 3, 4], plot=False);"
      ],
      "execution_count": null,
      "outputs": [
        {
          "output_type": "stream",
          "text": [
            "100%|██████████| 10000/10000 [00:04<00:00, 2457.08it/s]\n"
          ],
          "name": "stderr"
        },
        {
          "output_type": "display_data",
          "data": {
            "text/html": [
              "<div>\n",
              "<style scoped>\n",
              "    .dataframe tbody tr th:only-of-type {\n",
              "        vertical-align: middle;\n",
              "    }\n",
              "\n",
              "    .dataframe tbody tr th {\n",
              "        vertical-align: top;\n",
              "    }\n",
              "\n",
              "    .dataframe thead th {\n",
              "        text-align: right;\n",
              "    }\n",
              "</style>\n",
              "<table border=\"1\" class=\"dataframe\">\n",
              "  <thead>\n",
              "    <tr style=\"text-align: right;\">\n",
              "      <th></th>\n",
              "      <th>time</th>\n",
              "      <th>player</th>\n",
              "      <th>turn</th>\n",
              "      <th>red_turns</th>\n",
              "      <th>bonus_movements</th>\n",
              "    </tr>\n",
              "  </thead>\n",
              "  <tbody>\n",
              "    <tr>\n",
              "      <th>count</th>\n",
              "      <td>10000.000000</td>\n",
              "      <td>10000.00000</td>\n",
              "      <td>10000.000000</td>\n",
              "      <td>10000.000000</td>\n",
              "      <td>10000.000000</td>\n",
              "    </tr>\n",
              "    <tr>\n",
              "      <th>mean</th>\n",
              "      <td>10.360383</td>\n",
              "      <td>0.46060</td>\n",
              "      <td>35.906600</td>\n",
              "      <td>15.277500</td>\n",
              "      <td>-0.144300</td>\n",
              "    </tr>\n",
              "    <tr>\n",
              "      <th>std</th>\n",
              "      <td>1.970286</td>\n",
              "      <td>0.49847</td>\n",
              "      <td>6.732964</td>\n",
              "      <td>5.733165</td>\n",
              "      <td>14.066452</td>\n",
              "    </tr>\n",
              "    <tr>\n",
              "      <th>min</th>\n",
              "      <td>4.083333</td>\n",
              "      <td>0.00000</td>\n",
              "      <td>14.000000</td>\n",
              "      <td>2.000000</td>\n",
              "      <td>-76.000000</td>\n",
              "    </tr>\n",
              "    <tr>\n",
              "      <th>25%</th>\n",
              "      <td>8.833333</td>\n",
              "      <td>0.00000</td>\n",
              "      <td>31.000000</td>\n",
              "      <td>11.000000</td>\n",
              "      <td>-9.000000</td>\n",
              "    </tr>\n",
              "    <tr>\n",
              "      <th>50%</th>\n",
              "      <td>10.000000</td>\n",
              "      <td>0.00000</td>\n",
              "      <td>35.000000</td>\n",
              "      <td>15.000000</td>\n",
              "      <td>1.000000</td>\n",
              "    </tr>\n",
              "    <tr>\n",
              "      <th>75%</th>\n",
              "      <td>11.666667</td>\n",
              "      <td>1.00000</td>\n",
              "      <td>40.000000</td>\n",
              "      <td>19.000000</td>\n",
              "      <td>9.000000</td>\n",
              "    </tr>\n",
              "    <tr>\n",
              "      <th>max</th>\n",
              "      <td>19.833333</td>\n",
              "      <td>1.00000</td>\n",
              "      <td>68.000000</td>\n",
              "      <td>45.000000</td>\n",
              "      <td>49.000000</td>\n",
              "    </tr>\n",
              "  </tbody>\n",
              "</table>\n",
              "</div>"
            ],
            "text/plain": [
              "               time       player          turn     red_turns  bonus_movements\n",
              "count  10000.000000  10000.00000  10000.000000  10000.000000     10000.000000\n",
              "mean      10.360383      0.46060     35.906600     15.277500        -0.144300\n",
              "std        1.970286      0.49847      6.732964      5.733165        14.066452\n",
              "min        4.083333      0.00000     14.000000      2.000000       -76.000000\n",
              "25%        8.833333      0.00000     31.000000     11.000000        -9.000000\n",
              "50%       10.000000      0.00000     35.000000     15.000000         1.000000\n",
              "75%       11.666667      1.00000     40.000000     19.000000         9.000000\n",
              "max       19.833333      1.00000     68.000000     45.000000        49.000000"
            ]
          },
          "metadata": {
            "tags": []
          }
        }
      ]
    },
    {
      "cell_type": "code",
      "metadata": {
        "id": "mLKMQIl8s69g",
        "outputId": "176dd68c-f404-486e-f77e-7fc5690f6ccd",
        "colab": {
          "base_uri": "https://localhost:8080/",
          "height": 312
        }
      },
      "source": [
        "run_simulation_for([5,30], cards=[3, 4], plot=False);"
      ],
      "execution_count": null,
      "outputs": [
        {
          "output_type": "stream",
          "text": [
            "100%|██████████| 10000/10000 [00:02<00:00, 3923.00it/s]\n"
          ],
          "name": "stderr"
        },
        {
          "output_type": "display_data",
          "data": {
            "text/html": [
              "<div>\n",
              "<style scoped>\n",
              "    .dataframe tbody tr th:only-of-type {\n",
              "        vertical-align: middle;\n",
              "    }\n",
              "\n",
              "    .dataframe tbody tr th {\n",
              "        vertical-align: top;\n",
              "    }\n",
              "\n",
              "    .dataframe thead th {\n",
              "        text-align: right;\n",
              "    }\n",
              "</style>\n",
              "<table border=\"1\" class=\"dataframe\">\n",
              "  <thead>\n",
              "    <tr style=\"text-align: right;\">\n",
              "      <th></th>\n",
              "      <th>time</th>\n",
              "      <th>player</th>\n",
              "      <th>turn</th>\n",
              "      <th>red_turns</th>\n",
              "      <th>bonus_movements</th>\n",
              "    </tr>\n",
              "  </thead>\n",
              "  <tbody>\n",
              "    <tr>\n",
              "      <th>count</th>\n",
              "      <td>10000.000000</td>\n",
              "      <td>10000.000000</td>\n",
              "      <td>10000.000000</td>\n",
              "      <td>10000.000000</td>\n",
              "      <td>10000.000000</td>\n",
              "    </tr>\n",
              "    <tr>\n",
              "      <th>mean</th>\n",
              "      <td>6.625117</td>\n",
              "      <td>0.441800</td>\n",
              "      <td>23.113400</td>\n",
              "      <td>9.418600</td>\n",
              "      <td>32.973100</td>\n",
              "    </tr>\n",
              "    <tr>\n",
              "      <th>std</th>\n",
              "      <td>1.317851</td>\n",
              "      <td>0.496626</td>\n",
              "      <td>4.487511</td>\n",
              "      <td>2.554765</td>\n",
              "      <td>8.955568</td>\n",
              "    </tr>\n",
              "    <tr>\n",
              "      <th>min</th>\n",
              "      <td>2.416667</td>\n",
              "      <td>0.000000</td>\n",
              "      <td>9.000000</td>\n",
              "      <td>2.000000</td>\n",
              "      <td>6.000000</td>\n",
              "    </tr>\n",
              "    <tr>\n",
              "      <th>25%</th>\n",
              "      <td>5.833333</td>\n",
              "      <td>0.000000</td>\n",
              "      <td>20.000000</td>\n",
              "      <td>8.000000</td>\n",
              "      <td>27.000000</td>\n",
              "    </tr>\n",
              "    <tr>\n",
              "      <th>50%</th>\n",
              "      <td>6.500000</td>\n",
              "      <td>0.000000</td>\n",
              "      <td>23.000000</td>\n",
              "      <td>9.000000</td>\n",
              "      <td>33.000000</td>\n",
              "    </tr>\n",
              "    <tr>\n",
              "      <th>75%</th>\n",
              "      <td>7.583333</td>\n",
              "      <td>1.000000</td>\n",
              "      <td>26.000000</td>\n",
              "      <td>11.000000</td>\n",
              "      <td>39.000000</td>\n",
              "    </tr>\n",
              "    <tr>\n",
              "      <th>max</th>\n",
              "      <td>11.750000</td>\n",
              "      <td>1.000000</td>\n",
              "      <td>41.000000</td>\n",
              "      <td>19.000000</td>\n",
              "      <td>66.000000</td>\n",
              "    </tr>\n",
              "  </tbody>\n",
              "</table>\n",
              "</div>"
            ],
            "text/plain": [
              "               time        player          turn     red_turns  bonus_movements\n",
              "count  10000.000000  10000.000000  10000.000000  10000.000000     10000.000000\n",
              "mean       6.625117      0.441800     23.113400      9.418600        32.973100\n",
              "std        1.317851      0.496626      4.487511      2.554765         8.955568\n",
              "min        2.416667      0.000000      9.000000      2.000000         6.000000\n",
              "25%        5.833333      0.000000     20.000000      8.000000        27.000000\n",
              "50%        6.500000      0.000000     23.000000      9.000000        33.000000\n",
              "75%        7.583333      1.000000     26.000000     11.000000        39.000000\n",
              "max       11.750000      1.000000     41.000000     19.000000        66.000000"
            ]
          },
          "metadata": {
            "tags": []
          }
        }
      ]
    },
    {
      "cell_type": "code",
      "metadata": {
        "id": "XhlZ45_4tJRZ",
        "outputId": "c1e88dd3-0078-4e75-82dc-d0e71a8e1887",
        "colab": {
          "base_uri": "https://localhost:8080/",
          "height": 312
        }
      },
      "source": [
        "run_simulation_for([5,30], cards=[8,9], plot=False);"
      ],
      "execution_count": null,
      "outputs": [
        {
          "output_type": "stream",
          "text": [
            "100%|██████████| 10000/10000 [00:01<00:00, 6010.24it/s]\n"
          ],
          "name": "stderr"
        },
        {
          "output_type": "display_data",
          "data": {
            "text/html": [
              "<div>\n",
              "<style scoped>\n",
              "    .dataframe tbody tr th:only-of-type {\n",
              "        vertical-align: middle;\n",
              "    }\n",
              "\n",
              "    .dataframe tbody tr th {\n",
              "        vertical-align: top;\n",
              "    }\n",
              "\n",
              "    .dataframe thead th {\n",
              "        text-align: right;\n",
              "    }\n",
              "</style>\n",
              "<table border=\"1\" class=\"dataframe\">\n",
              "  <thead>\n",
              "    <tr style=\"text-align: right;\">\n",
              "      <th></th>\n",
              "      <th>time</th>\n",
              "      <th>player</th>\n",
              "      <th>turn</th>\n",
              "      <th>red_turns</th>\n",
              "      <th>bonus_movements</th>\n",
              "    </tr>\n",
              "  </thead>\n",
              "  <tbody>\n",
              "    <tr>\n",
              "      <th>count</th>\n",
              "      <td>10000.000000</td>\n",
              "      <td>10000.000000</td>\n",
              "      <td>10000.000000</td>\n",
              "      <td>10000.000000</td>\n",
              "      <td>10000.00000</td>\n",
              "    </tr>\n",
              "    <tr>\n",
              "      <th>mean</th>\n",
              "      <td>4.391592</td>\n",
              "      <td>0.468400</td>\n",
              "      <td>15.436600</td>\n",
              "      <td>5.453900</td>\n",
              "      <td>46.36580</td>\n",
              "    </tr>\n",
              "    <tr>\n",
              "      <th>std</th>\n",
              "      <td>1.458731</td>\n",
              "      <td>0.499025</td>\n",
              "      <td>4.968687</td>\n",
              "      <td>1.367648</td>\n",
              "      <td>11.50832</td>\n",
              "    </tr>\n",
              "    <tr>\n",
              "      <th>min</th>\n",
              "      <td>1.250000</td>\n",
              "      <td>0.000000</td>\n",
              "      <td>5.000000</td>\n",
              "      <td>1.000000</td>\n",
              "      <td>8.00000</td>\n",
              "    </tr>\n",
              "    <tr>\n",
              "      <th>25%</th>\n",
              "      <td>3.500000</td>\n",
              "      <td>0.000000</td>\n",
              "      <td>12.000000</td>\n",
              "      <td>5.000000</td>\n",
              "      <td>40.00000</td>\n",
              "    </tr>\n",
              "    <tr>\n",
              "      <th>50%</th>\n",
              "      <td>4.166667</td>\n",
              "      <td>0.000000</td>\n",
              "      <td>15.000000</td>\n",
              "      <td>5.000000</td>\n",
              "      <td>44.00000</td>\n",
              "    </tr>\n",
              "    <tr>\n",
              "      <th>75%</th>\n",
              "      <td>5.333333</td>\n",
              "      <td>1.000000</td>\n",
              "      <td>19.000000</td>\n",
              "      <td>6.000000</td>\n",
              "      <td>53.00000</td>\n",
              "    </tr>\n",
              "    <tr>\n",
              "      <th>max</th>\n",
              "      <td>10.000000</td>\n",
              "      <td>1.000000</td>\n",
              "      <td>35.000000</td>\n",
              "      <td>10.000000</td>\n",
              "      <td>86.00000</td>\n",
              "    </tr>\n",
              "  </tbody>\n",
              "</table>\n",
              "</div>"
            ],
            "text/plain": [
              "               time        player          turn     red_turns  bonus_movements\n",
              "count  10000.000000  10000.000000  10000.000000  10000.000000      10000.00000\n",
              "mean       4.391592      0.468400     15.436600      5.453900         46.36580\n",
              "std        1.458731      0.499025      4.968687      1.367648         11.50832\n",
              "min        1.250000      0.000000      5.000000      1.000000          8.00000\n",
              "25%        3.500000      0.000000     12.000000      5.000000         40.00000\n",
              "50%        4.166667      0.000000     15.000000      5.000000         44.00000\n",
              "75%        5.333333      1.000000     19.000000      6.000000         53.00000\n",
              "max       10.000000      1.000000     35.000000     10.000000         86.00000"
            ]
          },
          "metadata": {
            "tags": []
          }
        }
      ]
    },
    {
      "cell_type": "code",
      "metadata": {
        "id": "0nnJegzxtMsw",
        "outputId": "bc041f10-8093-448b-927a-45e05a2a335c",
        "colab": {
          "base_uri": "https://localhost:8080/",
          "height": 312
        }
      },
      "source": [
        "run_simulation_for([5,30], cards=[-4], plot=False);"
      ],
      "execution_count": null,
      "outputs": [
        {
          "output_type": "stream",
          "text": [
            "100%|██████████| 10000/10000 [00:09<00:00, 1108.59it/s]\n"
          ],
          "name": "stderr"
        },
        {
          "output_type": "display_data",
          "data": {
            "text/html": [
              "<div>\n",
              "<style scoped>\n",
              "    .dataframe tbody tr th:only-of-type {\n",
              "        vertical-align: middle;\n",
              "    }\n",
              "\n",
              "    .dataframe tbody tr th {\n",
              "        vertical-align: top;\n",
              "    }\n",
              "\n",
              "    .dataframe thead th {\n",
              "        text-align: right;\n",
              "    }\n",
              "</style>\n",
              "<table border=\"1\" class=\"dataframe\">\n",
              "  <thead>\n",
              "    <tr style=\"text-align: right;\">\n",
              "      <th></th>\n",
              "      <th>time</th>\n",
              "      <th>player</th>\n",
              "      <th>turn</th>\n",
              "      <th>red_turns</th>\n",
              "      <th>bonus_movements</th>\n",
              "    </tr>\n",
              "  </thead>\n",
              "  <tbody>\n",
              "    <tr>\n",
              "      <th>count</th>\n",
              "      <td>10000.000000</td>\n",
              "      <td>10000.000000</td>\n",
              "      <td>10000.000000</td>\n",
              "      <td>10000.000000</td>\n",
              "      <td>10000.000000</td>\n",
              "    </tr>\n",
              "    <tr>\n",
              "      <th>mean</th>\n",
              "      <td>24.084792</td>\n",
              "      <td>0.499400</td>\n",
              "      <td>82.934000</td>\n",
              "      <td>32.831500</td>\n",
              "      <td>-131.326000</td>\n",
              "    </tr>\n",
              "    <tr>\n",
              "      <th>std</th>\n",
              "      <td>8.395715</td>\n",
              "      <td>0.500025</td>\n",
              "      <td>28.773061</td>\n",
              "      <td>17.157755</td>\n",
              "      <td>68.631019</td>\n",
              "    </tr>\n",
              "    <tr>\n",
              "      <th>min</th>\n",
              "      <td>8.833333</td>\n",
              "      <td>0.000000</td>\n",
              "      <td>31.000000</td>\n",
              "      <td>1.000000</td>\n",
              "      <td>-632.000000</td>\n",
              "    </tr>\n",
              "    <tr>\n",
              "      <th>25%</th>\n",
              "      <td>18.083333</td>\n",
              "      <td>0.000000</td>\n",
              "      <td>62.000000</td>\n",
              "      <td>21.000000</td>\n",
              "      <td>-168.000000</td>\n",
              "    </tr>\n",
              "    <tr>\n",
              "      <th>50%</th>\n",
              "      <td>22.250000</td>\n",
              "      <td>0.000000</td>\n",
              "      <td>77.000000</td>\n",
              "      <td>30.000000</td>\n",
              "      <td>-120.000000</td>\n",
              "    </tr>\n",
              "    <tr>\n",
              "      <th>75%</th>\n",
              "      <td>28.583333</td>\n",
              "      <td>1.000000</td>\n",
              "      <td>98.000000</td>\n",
              "      <td>42.000000</td>\n",
              "      <td>-84.000000</td>\n",
              "    </tr>\n",
              "    <tr>\n",
              "      <th>max</th>\n",
              "      <td>89.250000</td>\n",
              "      <td>1.000000</td>\n",
              "      <td>306.000000</td>\n",
              "      <td>158.000000</td>\n",
              "      <td>-4.000000</td>\n",
              "    </tr>\n",
              "  </tbody>\n",
              "</table>\n",
              "</div>"
            ],
            "text/plain": [
              "               time        player          turn     red_turns  bonus_movements\n",
              "count  10000.000000  10000.000000  10000.000000  10000.000000     10000.000000\n",
              "mean      24.084792      0.499400     82.934000     32.831500      -131.326000\n",
              "std        8.395715      0.500025     28.773061     17.157755        68.631019\n",
              "min        8.833333      0.000000     31.000000      1.000000      -632.000000\n",
              "25%       18.083333      0.000000     62.000000     21.000000      -168.000000\n",
              "50%       22.250000      0.000000     77.000000     30.000000      -120.000000\n",
              "75%       28.583333      1.000000     98.000000     42.000000       -84.000000\n",
              "max       89.250000      1.000000    306.000000    158.000000        -4.000000"
            ]
          },
          "metadata": {
            "tags": []
          }
        }
      ]
    },
    {
      "cell_type": "code",
      "metadata": {
        "id": "JD-oLxU_tSy5",
        "outputId": "0b298658-f556-43dd-b517-d44b4fa1e572",
        "colab": {
          "base_uri": "https://localhost:8080/",
          "height": 312
        }
      },
      "source": [
        "run_simulation_for([5,30], cards=[-3], plot=False);"
      ],
      "execution_count": null,
      "outputs": [
        {
          "output_type": "stream",
          "text": [
            "100%|██████████| 10000/10000 [00:07<00:00, 1381.70it/s]\n"
          ],
          "name": "stderr"
        },
        {
          "output_type": "display_data",
          "data": {
            "text/html": [
              "<div>\n",
              "<style scoped>\n",
              "    .dataframe tbody tr th:only-of-type {\n",
              "        vertical-align: middle;\n",
              "    }\n",
              "\n",
              "    .dataframe tbody tr th {\n",
              "        vertical-align: top;\n",
              "    }\n",
              "\n",
              "    .dataframe thead th {\n",
              "        text-align: right;\n",
              "    }\n",
              "</style>\n",
              "<table border=\"1\" class=\"dataframe\">\n",
              "  <thead>\n",
              "    <tr style=\"text-align: right;\">\n",
              "      <th></th>\n",
              "      <th>time</th>\n",
              "      <th>player</th>\n",
              "      <th>turn</th>\n",
              "      <th>red_turns</th>\n",
              "      <th>bonus_movements</th>\n",
              "    </tr>\n",
              "  </thead>\n",
              "  <tbody>\n",
              "    <tr>\n",
              "      <th>count</th>\n",
              "      <td>10000.000000</td>\n",
              "      <td>10000.000000</td>\n",
              "      <td>10000.000000</td>\n",
              "      <td>10000.000000</td>\n",
              "      <td>10000.000000</td>\n",
              "    </tr>\n",
              "    <tr>\n",
              "      <th>mean</th>\n",
              "      <td>19.390700</td>\n",
              "      <td>0.479900</td>\n",
              "      <td>66.853900</td>\n",
              "      <td>26.217900</td>\n",
              "      <td>-78.653700</td>\n",
              "    </tr>\n",
              "    <tr>\n",
              "      <th>std</th>\n",
              "      <td>4.779167</td>\n",
              "      <td>0.499621</td>\n",
              "      <td>16.374656</td>\n",
              "      <td>12.003684</td>\n",
              "      <td>36.011052</td>\n",
              "    </tr>\n",
              "    <tr>\n",
              "      <th>min</th>\n",
              "      <td>9.416667</td>\n",
              "      <td>0.000000</td>\n",
              "      <td>33.000000</td>\n",
              "      <td>2.000000</td>\n",
              "      <td>-375.000000</td>\n",
              "    </tr>\n",
              "    <tr>\n",
              "      <th>25%</th>\n",
              "      <td>15.833333</td>\n",
              "      <td>0.000000</td>\n",
              "      <td>55.000000</td>\n",
              "      <td>17.000000</td>\n",
              "      <td>-99.000000</td>\n",
              "    </tr>\n",
              "    <tr>\n",
              "      <th>50%</th>\n",
              "      <td>18.708333</td>\n",
              "      <td>0.000000</td>\n",
              "      <td>64.500000</td>\n",
              "      <td>24.000000</td>\n",
              "      <td>-72.000000</td>\n",
              "    </tr>\n",
              "    <tr>\n",
              "      <th>75%</th>\n",
              "      <td>22.166667</td>\n",
              "      <td>1.000000</td>\n",
              "      <td>76.000000</td>\n",
              "      <td>33.000000</td>\n",
              "      <td>-51.000000</td>\n",
              "    </tr>\n",
              "    <tr>\n",
              "      <th>max</th>\n",
              "      <td>59.583333</td>\n",
              "      <td>1.000000</td>\n",
              "      <td>205.000000</td>\n",
              "      <td>125.000000</td>\n",
              "      <td>-6.000000</td>\n",
              "    </tr>\n",
              "  </tbody>\n",
              "</table>\n",
              "</div>"
            ],
            "text/plain": [
              "               time        player          turn     red_turns  bonus_movements\n",
              "count  10000.000000  10000.000000  10000.000000  10000.000000     10000.000000\n",
              "mean      19.390700      0.479900     66.853900     26.217900       -78.653700\n",
              "std        4.779167      0.499621     16.374656     12.003684        36.011052\n",
              "min        9.416667      0.000000     33.000000      2.000000      -375.000000\n",
              "25%       15.833333      0.000000     55.000000     17.000000       -99.000000\n",
              "50%       18.708333      0.000000     64.500000     24.000000       -72.000000\n",
              "75%       22.166667      1.000000     76.000000     33.000000       -51.000000\n",
              "max       59.583333      1.000000    205.000000    125.000000        -6.000000"
            ]
          },
          "metadata": {
            "tags": []
          }
        }
      ]
    },
    {
      "cell_type": "code",
      "metadata": {
        "id": "AZTtGn9stUGR",
        "outputId": "06c00c2b-b1f9-4025-abfc-fa324c6efc0b",
        "colab": {
          "base_uri": "https://localhost:8080/",
          "height": 546
        }
      },
      "source": [
        "player_fairness = []\n",
        "for selected_card in np.linspace(-10, 10, num=21):\n",
        "  selected_card = int(selected_card)\n",
        "  if selected_card == 0:\n",
        "    continue\n",
        "  results = run_simulation_for([5,30], cards=[selected_card], plot=False, describe=False)\n",
        "  player_fairness.append([selected_card, results['player'].mean(), results['turn'].mean()])\n",
        "\n",
        "player_fairness = pd.DataFrame(player_fairness, columns=[\"selected_card\", \"fairness\", \"turn\"])\n",
        "player_fairness.head()"
      ],
      "execution_count": null,
      "outputs": [
        {
          "output_type": "stream",
          "text": [
            "100%|██████████| 10000/10000 [00:24<00:00, 413.91it/s]\n",
            "100%|██████████| 10000/10000 [00:27<00:00, 368.11it/s]\n",
            "100%|██████████| 10000/10000 [00:32<00:00, 311.68it/s]\n",
            "100%|██████████| 10000/10000 [00:12<00:00, 793.34it/s]\n",
            "100%|██████████| 10000/10000 [00:12<00:00, 804.95it/s]\n",
            "100%|██████████| 10000/10000 [00:08<00:00, 1159.58it/s]\n",
            "100%|██████████| 10000/10000 [00:09<00:00, 1099.34it/s]\n",
            "100%|██████████| 10000/10000 [00:07<00:00, 1363.00it/s]\n",
            "100%|██████████| 10000/10000 [00:04<00:00, 2079.75it/s]\n",
            "100%|██████████| 10000/10000 [00:04<00:00, 2257.35it/s]\n",
            "100%|██████████| 10000/10000 [00:03<00:00, 2802.22it/s]\n",
            "100%|██████████| 10000/10000 [00:03<00:00, 3064.38it/s]\n",
            "100%|██████████| 10000/10000 [00:02<00:00, 3580.51it/s]\n",
            "100%|██████████| 10000/10000 [00:02<00:00, 4044.25it/s]\n",
            "100%|██████████| 10000/10000 [00:02<00:00, 4078.45it/s]\n",
            "100%|██████████| 10000/10000 [00:02<00:00, 4587.41it/s]\n",
            "100%|██████████| 10000/10000 [00:01<00:00, 5032.19it/s]\n",
            "100%|██████████| 10000/10000 [00:01<00:00, 6035.66it/s]\n",
            "100%|██████████| 10000/10000 [00:01<00:00, 5597.96it/s]\n",
            "100%|██████████| 10000/10000 [00:01<00:00, 5944.55it/s]\n"
          ],
          "name": "stderr"
        },
        {
          "output_type": "execute_result",
          "data": {
            "text/html": [
              "<div>\n",
              "<style scoped>\n",
              "    .dataframe tbody tr th:only-of-type {\n",
              "        vertical-align: middle;\n",
              "    }\n",
              "\n",
              "    .dataframe tbody tr th {\n",
              "        vertical-align: top;\n",
              "    }\n",
              "\n",
              "    .dataframe thead th {\n",
              "        text-align: right;\n",
              "    }\n",
              "</style>\n",
              "<table border=\"1\" class=\"dataframe\">\n",
              "  <thead>\n",
              "    <tr style=\"text-align: right;\">\n",
              "      <th></th>\n",
              "      <th>selected_card</th>\n",
              "      <th>fairness</th>\n",
              "      <th>turn</th>\n",
              "    </tr>\n",
              "  </thead>\n",
              "  <tbody>\n",
              "    <tr>\n",
              "      <th>0</th>\n",
              "      <td>-10</td>\n",
              "      <td>0.5046</td>\n",
              "      <td>248.6374</td>\n",
              "    </tr>\n",
              "    <tr>\n",
              "      <th>1</th>\n",
              "      <td>-9</td>\n",
              "      <td>0.5012</td>\n",
              "      <td>267.6274</td>\n",
              "    </tr>\n",
              "    <tr>\n",
              "      <th>2</th>\n",
              "      <td>-8</td>\n",
              "      <td>0.4953</td>\n",
              "      <td>310.9885</td>\n",
              "    </tr>\n",
              "    <tr>\n",
              "      <th>3</th>\n",
              "      <td>-7</td>\n",
              "      <td>0.4921</td>\n",
              "      <td>126.1429</td>\n",
              "    </tr>\n",
              "    <tr>\n",
              "      <th>4</th>\n",
              "      <td>-6</td>\n",
              "      <td>0.4998</td>\n",
              "      <td>120.2318</td>\n",
              "    </tr>\n",
              "  </tbody>\n",
              "</table>\n",
              "</div>"
            ],
            "text/plain": [
              "   selected_card  fairness      turn\n",
              "0            -10    0.5046  248.6374\n",
              "1             -9    0.5012  267.6274\n",
              "2             -8    0.4953  310.9885\n",
              "3             -7    0.4921  126.1429\n",
              "4             -6    0.4998  120.2318"
            ]
          },
          "metadata": {
            "tags": []
          },
          "execution_count": 26
        }
      ]
    },
    {
      "cell_type": "code",
      "metadata": {
        "id": "q93qE-L3uTu5",
        "outputId": "4a4671f8-bc03-40bf-b7ad-8c0e18c93eb9",
        "colab": {
          "base_uri": "https://localhost:8080/",
          "height": 301
        }
      },
      "source": [
        "import seaborn as sns\n",
        "\n",
        "sns.scatterplot(data=player_fairness, x= \"selected_card\", y=\"fairness\")\n",
        "plt.ylim(0, 1)"
      ],
      "execution_count": null,
      "outputs": [
        {
          "output_type": "execute_result",
          "data": {
            "text/plain": [
              "(0.0, 1.0)"
            ]
          },
          "metadata": {
            "tags": []
          },
          "execution_count": 31
        },
        {
          "output_type": "display_data",
          "data": {
            "image/png": "[encoded data removed]",
            "text/plain": [
              "<Figure size 432x288 with 1 Axes>"
            ]
          },
          "metadata": {
            "tags": [],
            "needs_background": "light"
          }
        }
      ]
    },
    {
      "cell_type": "code",
      "metadata": {
        "id": "d86ijY0xx8QV",
        "outputId": "9e4e3d47-bab5-4826-a40b-68de3ffcc721",
        "colab": {
          "base_uri": "https://localhost:8080/",
          "height": 297
        }
      },
      "source": [
        "sns.scatterplot(data=player_fairness, x= \"selected_card\", y=\"turn\")"
      ],
      "execution_count": null,
      "outputs": [
        {
          "output_type": "execute_result",
          "data": {
            "text/plain": [
              "<matplotlib.axes._subplots.AxesSubplot at 0x7f221aa237b8>"
            ]
          },
          "metadata": {
            "tags": []
          },
          "execution_count": 33
        },
        {
          "output_type": "display_data",
          "data": {
            "image/png": "[encoded data removed]",
            "text/plain": [
              "<Figure size 432x288 with 1 Axes>"
            ]
          },
          "metadata": {
            "tags": [],
            "needs_background": "light"
          }
        }
      ]
    },
    {
      "cell_type": "code",
      "metadata": {
        "id": "NRYmGa3KyM6C",
        "outputId": "96a006a6-5c26-44d1-f614-e50ee75c7fee",
        "colab": {
          "base_uri": "https://localhost:8080/",
          "height": 296
        }
      },
      "source": [
        "sns.scatterplot(data=player_fairness, x= \"turn\", y=\"fairness\")"
      ],
      "execution_count": null,
      "outputs": [
        {
          "output_type": "execute_result",
          "data": {
            "text/plain": [
              "<matplotlib.axes._subplots.AxesSubplot at 0x7f221a9d0b38>"
            ]
          },
          "metadata": {
            "tags": []
          },
          "execution_count": 35
        },
        {
          "output_type": "display_data",
          "data": {
            "image/png": "[encoded data removed]",
            "text/plain": [
              "<Figure size 432x288 with 1 Axes>"
            ]
          },
          "metadata": {
            "tags": [],
            "needs_background": "light"
          }
        }
      ]
    },
    {
      "cell_type": "code",
      "metadata": {
        "id": "8NiD1JKlySyS",
        "outputId": "432a9aad-e6f7-4981-8ed9-f4d8a88a30a4",
        "colab": {
          "base_uri": "https://localhost:8080/",
          "height": 110
        }
      },
      "source": [
        "player_fairness.query(\"70 < turn < 100\")"
      ],
      "execution_count": null,
      "outputs": [
        {
          "output_type": "execute_result",
          "data": {
            "text/html": [
              "<div>\n",
              "<style scoped>\n",
              "    .dataframe tbody tr th:only-of-type {\n",
              "        vertical-align: middle;\n",
              "    }\n",
              "\n",
              "    .dataframe tbody tr th {\n",
              "        vertical-align: top;\n",
              "    }\n",
              "\n",
              "    .dataframe thead th {\n",
              "        text-align: right;\n",
              "    }\n",
              "</style>\n",
              "<table border=\"1\" class=\"dataframe\">\n",
              "  <thead>\n",
              "    <tr style=\"text-align: right;\">\n",
              "      <th></th>\n",
              "      <th>selected_card</th>\n",
              "      <th>fairness</th>\n",
              "      <th>turn</th>\n",
              "    </tr>\n",
              "  </thead>\n",
              "  <tbody>\n",
              "    <tr>\n",
              "      <th>5</th>\n",
              "      <td>-5</td>\n",
              "      <td>0.4901</td>\n",
              "      <td>81.6949</td>\n",
              "    </tr>\n",
              "    <tr>\n",
              "      <th>6</th>\n",
              "      <td>-4</td>\n",
              "      <td>0.4994</td>\n",
              "      <td>82.9340</td>\n",
              "    </tr>\n",
              "  </tbody>\n",
              "</table>\n",
              "</div>"
            ],
            "text/plain": [
              "   selected_card  fairness     turn\n",
              "5             -5    0.4901  81.6949\n",
              "6             -4    0.4994  82.9340"
            ]
          },
          "metadata": {
            "tags": []
          },
          "execution_count": 36
        }
      ]
    },
    {
      "cell_type": "code",
      "metadata": {
        "id": "McoH1mHxyezq",
        "outputId": "6980ad0b-da18-4302-e689-42d2c6b18281",
        "colab": {
          "base_uri": "https://localhost:8080/",
          "height": 79
        }
      },
      "source": [
        "player_fairness.query(\"45 < turn < 60\")"
      ],
      "execution_count": null,
      "outputs": [
        {
          "output_type": "execute_result",
          "data": {
            "text/html": [
              "<div>\n",
              "<style scoped>\n",
              "    .dataframe tbody tr th:only-of-type {\n",
              "        vertical-align: middle;\n",
              "    }\n",
              "\n",
              "    .dataframe tbody tr th {\n",
              "        vertical-align: top;\n",
              "    }\n",
              "\n",
              "    .dataframe thead th {\n",
              "        text-align: right;\n",
              "    }\n",
              "</style>\n",
              "<table border=\"1\" class=\"dataframe\">\n",
              "  <thead>\n",
              "    <tr style=\"text-align: right;\">\n",
              "      <th></th>\n",
              "      <th>selected_card</th>\n",
              "      <th>fairness</th>\n",
              "      <th>turn</th>\n",
              "    </tr>\n",
              "  </thead>\n",
              "  <tbody>\n",
              "    <tr>\n",
              "      <th>8</th>\n",
              "      <td>-2</td>\n",
              "      <td>0.4629</td>\n",
              "      <td>47.6483</td>\n",
              "    </tr>\n",
              "  </tbody>\n",
              "</table>\n",
              "</div>"
            ],
            "text/plain": [
              "   selected_card  fairness     turn\n",
              "8             -2    0.4629  47.6483"
            ]
          },
          "metadata": {
            "tags": []
          },
          "execution_count": 37
        }
      ]
    },
    {
      "cell_type": "code",
      "metadata": {
        "id": "BQ1BEZO3yusZ",
        "outputId": "f77e51b1-a345-45c2-bf33-c3a584d52599",
        "colab": {
          "base_uri": "https://localhost:8080/",
          "height": 666
        }
      },
      "source": [
        "player_fairness"
      ],
      "execution_count": null,
      "outputs": [
        {
          "output_type": "execute_result",
          "data": {
            "text/html": [
              "<div>\n",
              "<style scoped>\n",
              "    .dataframe tbody tr th:only-of-type {\n",
              "        vertical-align: middle;\n",
              "    }\n",
              "\n",
              "    .dataframe tbody tr th {\n",
              "        vertical-align: top;\n",
              "    }\n",
              "\n",
              "    .dataframe thead th {\n",
              "        text-align: right;\n",
              "    }\n",
              "</style>\n",
              "<table border=\"1\" class=\"dataframe\">\n",
              "  <thead>\n",
              "    <tr style=\"text-align: right;\">\n",
              "      <th></th>\n",
              "      <th>selected_card</th>\n",
              "      <th>fairness</th>\n",
              "      <th>turn</th>\n",
              "    </tr>\n",
              "  </thead>\n",
              "  <tbody>\n",
              "    <tr>\n",
              "      <th>0</th>\n",
              "      <td>-10</td>\n",
              "      <td>0.5046</td>\n",
              "      <td>248.6374</td>\n",
              "    </tr>\n",
              "    <tr>\n",
              "      <th>1</th>\n",
              "      <td>-9</td>\n",
              "      <td>0.5012</td>\n",
              "      <td>267.6274</td>\n",
              "    </tr>\n",
              "    <tr>\n",
              "      <th>2</th>\n",
              "      <td>-8</td>\n",
              "      <td>0.4953</td>\n",
              "      <td>310.9885</td>\n",
              "    </tr>\n",
              "    <tr>\n",
              "      <th>3</th>\n",
              "      <td>-7</td>\n",
              "      <td>0.4921</td>\n",
              "      <td>126.1429</td>\n",
              "    </tr>\n",
              "    <tr>\n",
              "      <th>4</th>\n",
              "      <td>-6</td>\n",
              "      <td>0.4998</td>\n",
              "      <td>120.2318</td>\n",
              "    </tr>\n",
              "    <tr>\n",
              "      <th>5</th>\n",
              "      <td>-5</td>\n",
              "      <td>0.4901</td>\n",
              "      <td>81.6949</td>\n",
              "    </tr>\n",
              "    <tr>\n",
              "      <th>6</th>\n",
              "      <td>-4</td>\n",
              "      <td>0.4994</td>\n",
              "      <td>82.9340</td>\n",
              "    </tr>\n",
              "    <tr>\n",
              "      <th>7</th>\n",
              "      <td>-3</td>\n",
              "      <td>0.4799</td>\n",
              "      <td>66.8539</td>\n",
              "    </tr>\n",
              "    <tr>\n",
              "      <th>8</th>\n",
              "      <td>-2</td>\n",
              "      <td>0.4629</td>\n",
              "      <td>47.6483</td>\n",
              "    </tr>\n",
              "    <tr>\n",
              "      <th>9</th>\n",
              "      <td>-1</td>\n",
              "      <td>0.4514</td>\n",
              "      <td>43.2998</td>\n",
              "    </tr>\n",
              "    <tr>\n",
              "      <th>10</th>\n",
              "      <td>1</td>\n",
              "      <td>0.4201</td>\n",
              "      <td>35.2315</td>\n",
              "    </tr>\n",
              "    <tr>\n",
              "      <th>11</th>\n",
              "      <td>2</td>\n",
              "      <td>0.4203</td>\n",
              "      <td>31.8603</td>\n",
              "    </tr>\n",
              "    <tr>\n",
              "      <th>12</th>\n",
              "      <td>3</td>\n",
              "      <td>0.4268</td>\n",
              "      <td>24.6872</td>\n",
              "    </tr>\n",
              "    <tr>\n",
              "      <th>13</th>\n",
              "      <td>4</td>\n",
              "      <td>0.4582</td>\n",
              "      <td>21.6172</td>\n",
              "    </tr>\n",
              "    <tr>\n",
              "      <th>14</th>\n",
              "      <td>5</td>\n",
              "      <td>0.4499</td>\n",
              "      <td>22.8391</td>\n",
              "    </tr>\n",
              "    <tr>\n",
              "      <th>15</th>\n",
              "      <td>6</td>\n",
              "      <td>0.4415</td>\n",
              "      <td>20.6527</td>\n",
              "    </tr>\n",
              "    <tr>\n",
              "      <th>16</th>\n",
              "      <td>7</td>\n",
              "      <td>0.4441</td>\n",
              "      <td>19.3139</td>\n",
              "    </tr>\n",
              "    <tr>\n",
              "      <th>17</th>\n",
              "      <td>8</td>\n",
              "      <td>0.4570</td>\n",
              "      <td>14.2710</td>\n",
              "    </tr>\n",
              "    <tr>\n",
              "      <th>18</th>\n",
              "      <td>9</td>\n",
              "      <td>0.4520</td>\n",
              "      <td>17.4702</td>\n",
              "    </tr>\n",
              "    <tr>\n",
              "      <th>19</th>\n",
              "      <td>10</td>\n",
              "      <td>0.4530</td>\n",
              "      <td>16.5226</td>\n",
              "    </tr>\n",
              "  </tbody>\n",
              "</table>\n",
              "</div>"
            ],
            "text/plain": [
              "    selected_card  fairness      turn\n",
              "0             -10    0.5046  248.6374\n",
              "1              -9    0.5012  267.6274\n",
              "2              -8    0.4953  310.9885\n",
              "3              -7    0.4921  126.1429\n",
              "4              -6    0.4998  120.2318\n",
              "5              -5    0.4901   81.6949\n",
              "6              -4    0.4994   82.9340\n",
              "7              -3    0.4799   66.8539\n",
              "8              -2    0.4629   47.6483\n",
              "9              -1    0.4514   43.2998\n",
              "10              1    0.4201   35.2315\n",
              "11              2    0.4203   31.8603\n",
              "12              3    0.4268   24.6872\n",
              "13              4    0.4582   21.6172\n",
              "14              5    0.4499   22.8391\n",
              "15              6    0.4415   20.6527\n",
              "16              7    0.4441   19.3139\n",
              "17              8    0.4570   14.2710\n",
              "18              9    0.4520   17.4702\n",
              "19             10    0.4530   16.5226"
            ]
          },
          "metadata": {
            "tags": []
          },
          "execution_count": 38
        }
      ]
    },
    {
      "cell_type": "code",
      "metadata": {
        "id": "_-Qx4AD6yq06",
        "outputId": "ce144b55-3266-4cc3-d1a9-a03e0c31a50c",
        "colab": {
          "base_uri": "https://localhost:8080/",
          "height": 384
        }
      },
      "source": [
        "player_fairness = []\n",
        "for selected_card in np.linspace(-7, -1, num=7):\n",
        "  selected_card = int(selected_card)\n",
        "  if selected_card == 0:\n",
        "    continue\n",
        "  results = run_simulation_for([5,30], cards=[-2, selected_card, -selected_card], plot=False, describe=False)\n",
        "  player_fairness.append([selected_card, results['player'].mean(), results['turn'].mean()])\n",
        "\n",
        "player_fairness = pd.DataFrame(player_fairness, columns=[\"selected_card\", \"fairness\", \"turn\"])\n",
        "player_fairness"
      ],
      "execution_count": null,
      "outputs": [
        {
          "output_type": "stream",
          "text": [
            "100%|██████████| 10000/10000 [00:03<00:00, 2612.39it/s]\n",
            "100%|██████████| 10000/10000 [00:03<00:00, 2512.61it/s]\n",
            "100%|██████████| 10000/10000 [00:03<00:00, 2518.21it/s]\n",
            "100%|██████████| 10000/10000 [00:04<00:00, 2318.73it/s]\n",
            "100%|██████████| 10000/10000 [00:04<00:00, 2208.59it/s]\n",
            "100%|██████████| 10000/10000 [00:04<00:00, 2425.62it/s]\n",
            "100%|██████████| 10000/10000 [00:04<00:00, 2423.70it/s]\n"
          ],
          "name": "stderr"
        },
        {
          "output_type": "execute_result",
          "data": {
            "text/html": [
              "<div>\n",
              "<style scoped>\n",
              "    .dataframe tbody tr th:only-of-type {\n",
              "        vertical-align: middle;\n",
              "    }\n",
              "\n",
              "    .dataframe tbody tr th {\n",
              "        vertical-align: top;\n",
              "    }\n",
              "\n",
              "    .dataframe thead th {\n",
              "        text-align: right;\n",
              "    }\n",
              "</style>\n",
              "<table border=\"1\" class=\"dataframe\">\n",
              "  <thead>\n",
              "    <tr style=\"text-align: right;\">\n",
              "      <th></th>\n",
              "      <th>selected_card</th>\n",
              "      <th>fairness</th>\n",
              "      <th>turn</th>\n",
              "    </tr>\n",
              "  </thead>\n",
              "  <tbody>\n",
              "    <tr>\n",
              "      <th>0</th>\n",
              "      <td>-7</td>\n",
              "      <td>0.4635</td>\n",
              "      <td>36.5887</td>\n",
              "    </tr>\n",
              "    <tr>\n",
              "      <th>1</th>\n",
              "      <td>-6</td>\n",
              "      <td>0.4839</td>\n",
              "      <td>37.8899</td>\n",
              "    </tr>\n",
              "    <tr>\n",
              "      <th>2</th>\n",
              "      <td>-5</td>\n",
              "      <td>0.4675</td>\n",
              "      <td>38.7809</td>\n",
              "    </tr>\n",
              "    <tr>\n",
              "      <th>3</th>\n",
              "      <td>-4</td>\n",
              "      <td>0.4742</td>\n",
              "      <td>39.7622</td>\n",
              "    </tr>\n",
              "    <tr>\n",
              "      <th>4</th>\n",
              "      <td>-3</td>\n",
              "      <td>0.4661</td>\n",
              "      <td>41.2593</td>\n",
              "    </tr>\n",
              "    <tr>\n",
              "      <th>5</th>\n",
              "      <td>-2</td>\n",
              "      <td>0.4521</td>\n",
              "      <td>40.8079</td>\n",
              "    </tr>\n",
              "    <tr>\n",
              "      <th>6</th>\n",
              "      <td>-1</td>\n",
              "      <td>0.4464</td>\n",
              "      <td>41.1016</td>\n",
              "    </tr>\n",
              "  </tbody>\n",
              "</table>\n",
              "</div>"
            ],
            "text/plain": [
              "   selected_card  fairness     turn\n",
              "0             -7    0.4635  36.5887\n",
              "1             -6    0.4839  37.8899\n",
              "2             -5    0.4675  38.7809\n",
              "3             -4    0.4742  39.7622\n",
              "4             -3    0.4661  41.2593\n",
              "5             -2    0.4521  40.8079\n",
              "6             -1    0.4464  41.1016"
            ]
          },
          "metadata": {
            "tags": []
          },
          "execution_count": 39
        }
      ]
    },
    {
      "cell_type": "code",
      "metadata": {
        "id": "PLCesxTNzFZ8",
        "outputId": "934aac6a-9d08-4618-d7f2-00ef38b0e9d6",
        "colab": {
          "base_uri": "https://localhost:8080/",
          "height": 547
        }
      },
      "source": [
        "sns.scatterplot(data=player_fairness, x= \"selected_card\", y=\"fairness\")\n",
        "plt.ylim(0, 1)\n",
        "plt.show()\n",
        "sns.scatterplot(data=player_fairness, x= \"selected_card\", y=\"turn\")\n",
        "plt.show()"
      ],
      "execution_count": null,
      "outputs": [
        {
          "output_type": "display_data",
          "data": {
            "image/png": "[encoded data removed]",
            "text/plain": [
              "<Figure size 432x288 with 1 Axes>"
            ]
          },
          "metadata": {
            "tags": [],
            "needs_background": "light"
          }
        },
        {
          "output_type": "display_data",
          "data": {
            "image/png": "[encoded data removed]",
            "text/plain": [
              "<Figure size 432x288 with 1 Axes>"
            ]
          },
          "metadata": {
            "tags": [],
            "needs_background": "light"
          }
        }
      ]
    },
    {
      "cell_type": "code",
      "metadata": {
        "id": "0rqaJL_yzRdK",
        "outputId": "74df4d5a-136f-4717-a677-df2473c9e8df",
        "colab": {
          "base_uri": "https://localhost:8080/",
          "height": 296
        }
      },
      "source": [
        "sns.scatterplot(data=player_fairness, x= \"turn\", y=\"fairness\")"
      ],
      "execution_count": null,
      "outputs": [
        {
          "output_type": "execute_result",
          "data": {
            "text/plain": [
              "<matplotlib.axes._subplots.AxesSubplot at 0x7f221232aba8>"
            ]
          },
          "metadata": {
            "tags": []
          },
          "execution_count": 41
        },
        {
          "output_type": "display_data",
          "data": {
            "image/png": "[encoded data removed]",
            "text/plain": [
              "<Figure size 432x288 with 1 Axes>"
            ]
          },
          "metadata": {
            "tags": [],
            "needs_background": "light"
          }
        }
      ]
    },
    {
      "cell_type": "code",
      "metadata": {
        "id": "09kOxC4KzRtz",
        "outputId": "85a86d0a-20bb-4e88-bed7-5974329c78f3",
        "colab": {
          "base_uri": "https://localhost:8080/",
          "height": 192
        }
      },
      "source": [
        "player_fairness = []\n",
        "for selected_card in np.linspace(3, 5, num=3):\n",
        "  selected_card = int(selected_card)\n",
        "  if selected_card == 0:\n",
        "    continue\n",
        "  results = run_simulation_for([5,30], cards=[-2, -6, 6, selected_card, -selected_card - 2], plot=False, describe=False)\n",
        "  player_fairness.append([selected_card, results['player'].mean(), results['turn'].mean()])\n",
        "\n",
        "player_fairness = pd.DataFrame(player_fairness, columns=[\"selected_card\", \"fairness\", \"turn\"])\n",
        "player_fairness"
      ],
      "execution_count": null,
      "outputs": [
        {
          "output_type": "stream",
          "text": [
            "100%|██████████| 10000/10000 [00:04<00:00, 2352.34it/s]\n",
            "100%|██████████| 10000/10000 [00:04<00:00, 2413.72it/s]\n",
            "100%|██████████| 10000/10000 [00:04<00:00, 2445.53it/s]\n"
          ],
          "name": "stderr"
        },
        {
          "output_type": "execute_result",
          "data": {
            "text/html": [
              "<div>\n",
              "<style scoped>\n",
              "    .dataframe tbody tr th:only-of-type {\n",
              "        vertical-align: middle;\n",
              "    }\n",
              "\n",
              "    .dataframe tbody tr th {\n",
              "        vertical-align: top;\n",
              "    }\n",
              "\n",
              "    .dataframe thead th {\n",
              "        text-align: right;\n",
              "    }\n",
              "</style>\n",
              "<table border=\"1\" class=\"dataframe\">\n",
              "  <thead>\n",
              "    <tr style=\"text-align: right;\">\n",
              "      <th></th>\n",
              "      <th>selected_card</th>\n",
              "      <th>fairness</th>\n",
              "      <th>turn</th>\n",
              "    </tr>\n",
              "  </thead>\n",
              "  <tbody>\n",
              "    <tr>\n",
              "      <th>0</th>\n",
              "      <td>3</td>\n",
              "      <td>0.4817</td>\n",
              "      <td>39.1407</td>\n",
              "    </tr>\n",
              "    <tr>\n",
              "      <th>1</th>\n",
              "      <td>4</td>\n",
              "      <td>0.4714</td>\n",
              "      <td>38.4264</td>\n",
              "    </tr>\n",
              "    <tr>\n",
              "      <th>2</th>\n",
              "      <td>5</td>\n",
              "      <td>0.4727</td>\n",
              "      <td>37.8969</td>\n",
              "    </tr>\n",
              "  </tbody>\n",
              "</table>\n",
              "</div>"
            ],
            "text/plain": [
              "   selected_card  fairness     turn\n",
              "0              3    0.4817  39.1407\n",
              "1              4    0.4714  38.4264\n",
              "2              5    0.4727  37.8969"
            ]
          },
          "metadata": {
            "tags": []
          },
          "execution_count": 51
        }
      ]
    },
    {
      "cell_type": "code",
      "metadata": {
        "id": "MM-RsoUHznbj",
        "outputId": "9395fe17-0952-4ee7-edd4-66eb3e97ef6b",
        "colab": {
          "base_uri": "https://localhost:8080/",
          "height": 551
        }
      },
      "source": [
        "sns.scatterplot(data=player_fairness, x= \"selected_card\", y=\"fairness\")\n",
        "plt.ylim(0, 1)\n",
        "plt.show()\n",
        "sns.scatterplot(data=player_fairness, x= \"selected_card\", y=\"turn\")\n",
        "plt.show()"
      ],
      "execution_count": null,
      "outputs": [
        {
          "output_type": "display_data",
          "data": {
            "image/png": "[encoded data removed]",
            "text/plain": [
              "<Figure size 432x288 with 1 Axes>"
            ]
          },
          "metadata": {
            "tags": [],
            "needs_background": "light"
          }
        },
        {
          "output_type": "display_data",
          "data": {
            "image/png": "[encoded data removed]",
            "text/plain": [
              "<Figure size 432x288 with 1 Axes>"
            ]
          },
          "metadata": {
            "tags": [],
            "needs_background": "light"
          }
        }
      ]
    },
    {
      "cell_type": "code",
      "metadata": {
        "id": "gkRAuF3uzpAL",
        "outputId": "27796a5e-e0b9-43ad-bb60-10d76ca8042e",
        "colab": {
          "base_uri": "https://localhost:8080/",
          "height": 296
        }
      },
      "source": [
        "sns.scatterplot(data=player_fairness, x= \"turn\", y=\"fairness\")"
      ],
      "execution_count": null,
      "outputs": [
        {
          "output_type": "execute_result",
          "data": {
            "text/plain": [
              "<matplotlib.axes._subplots.AxesSubplot at 0x7f2211f76cf8>"
            ]
          },
          "metadata": {
            "tags": []
          },
          "execution_count": 53
        },
        {
          "output_type": "display_data",
          "data": {
            "image/png": "[encoded data removed]",
            "text/plain": [
              "<Figure size 432x288 with 1 Axes>"
            ]
          },
          "metadata": {
            "tags": [],
            "needs_background": "light"
          }
        }
      ]
    },
    {
      "cell_type": "code",
      "metadata": {
        "id": "mILl4fs-zqES"
      },
      "source": [
        "# my selection: [-2, -6, 6]"
      ],
      "execution_count": null,
      "outputs": []
    },
    {
      "cell_type": "code",
      "metadata": {
        "id": "_8q-UD4X0rPS",
        "outputId": "02ed43cf-27fd-495d-c04a-fc86c025757d",
        "colab": {
          "base_uri": "https://localhost:8080/"
        }
      },
      "source": [
        "run_simulation_for([5,30], cards=[-2, -6, 6, -2, -6, 6, -1, -3, 3], plot=False, describe=False).mean()\n"
      ],
      "execution_count": null,
      "outputs": [
        {
          "output_type": "stream",
          "text": [
            "100%|██████████| 10000/10000 [00:04<00:00, 2386.38it/s]\n"
          ],
          "name": "stderr"
        },
        {
          "output_type": "execute_result",
          "data": {
            "text/plain": [
              "time                          11.0425\n",
              "player                         0.4737\n",
              "turn                          38.2359\n",
              "positions          [44.4509, 43.2909]\n",
              "red_turns                     12.8867\n",
              "bonus_movements               -7.1741\n",
              "dtype: object"
            ]
          },
          "metadata": {
            "tags": []
          },
          "execution_count": 55
        }
      ]
    },
    {
      "cell_type": "markdown",
      "metadata": {
        "id": "7MOua2uImsbC"
      },
      "source": [
        "# Desafio: rodar tudo AO MESMO tempo"
      ]
    },
    {
      "cell_type": "code",
      "metadata": {
        "id": "dT98MEHb0wvo"
      },
      "source": [
        "# player_position = [0, 0]\n",
        "# choices = [1,2,3,4]\n",
        "# [[1,0],[2,0],[3,0],[4,0]]\n",
        "# [[2,0][3,0][4,0][1,1][1,2][1,3][1,4]]\n",
        "# [[3,0][4,0][1,1][1,2][1,3][1,4][2,1][2,2][2,3][2,4]]\n",
        "\n",
        "# player_position = [[1,2] , 0, 0 ,0 ,0 ,0 ,0, 0 ]\n",
        "\n",
        "# turn_0 = [1 0 0 0 0 0 0  0 0]\n",
        "# turn_1 = [0 1/4 1/4 1/4 1/4 0 0 0 0 0 0 0 0]\n",
        "# turn_2 = [0 0 1/16 2/16 3/16 4/16 3/16 2/16 1/16 0 0 0 0 0 0]"
      ],
      "execution_count": 12,
      "outputs": []
    },
    {
      "cell_type": "code",
      "metadata": {
        "id": "JeSrRgN5oY-u",
        "outputId": "4d85aee8-eab6-4f6c-f990-8d268a89a460",
        "colab": {
          "base_uri": "https://localhost:8080/"
        }
      },
      "source": [
        "1/16"
      ],
      "execution_count": 13,
      "outputs": [
        {
          "output_type": "execute_result",
          "data": {
            "text/plain": [
              "0.0625"
            ]
          },
          "metadata": {
            "tags": []
          },
          "execution_count": 13
        }
      ]
    },
    {
      "cell_type": "code",
      "metadata": {
        "id": "EwQIypIzpSLn"
      },
      "source": [
        "board_size = 52\n",
        "\n",
        "current_board = [0] * board_size\n",
        "current_board[0] = 1\n",
        "dice_possibilities = [1,2,3,4]\n",
        "accepted_error = 1 / 1000000\n",
        "for turn in range(15):\n",
        "  next_board = [0] * 52\n",
        "  for position, current_probability in enumerate(current_board):\n",
        "    if current_probability <= accepted_error:\n",
        "      continue\n",
        "    # print(position, current_probability)\n",
        "    for dice in dice_possibilities:\n",
        "      new_position = min(position + dice, board_size - 1)\n",
        "      dice_probability = 1 / len(dice_possibilities)\n",
        "      next_probability = current_probability * dice_probability\n",
        "      next_board[new_position] += next_probability\n",
        "  current_board = next_board"
      ],
      "execution_count": 28,
      "outputs": []
    },
    {
      "cell_type": "code",
      "metadata": {
        "id": "j0kjgPIappMQ",
        "outputId": "6a59ad0e-8940-495b-bb21-f896326d23b3",
        "colab": {
          "base_uri": "https://localhost:8080/"
        }
      },
      "source": [
        "print(current_board)"
      ],
      "execution_count": 29,
      "outputs": [
        {
          "output_type": "stream",
          "text": [
            "[0, 0, 0, 0, 0, 0, 0, 0, 0, 0, 0, 0, 0, 0, 0, 0, 0, 0, 4.7497451305389404e-07, 2.6123598217964172e-06, 1.034419983625412e-05, 3.418419510126114e-05, 9.855721145868301e-05, 0.0002549588680267334, 0.000599939376115799, 0.0012967223301529884, 0.0025933003053069115, 0.004826076328754425, 0.008395453914999962, 0.013702507130801678, 0.0210458030924201, 0.030493447557091713, 0.041763028129935265, 0.05415312945842743, 0.0665668398141861, 0.07764674909412861, 0.08600647561252117, 0.09050756692886353, 0.09050756692886353, 0.08600647561252117, 0.07764674909412861, 0.0665668398141861, 0.05415312945842743, 0.041763028129935265, 0.030493447557091713, 0.0210458030924201, 0.013702507130801678, 0.008395453914999962, 0.004826076328754425, 0.0025933003053069115, 0.0012967223301529884, 0.0010013505816459656]\n"
          ],
          "name": "stdout"
        }
      ]
    },
    {
      "cell_type": "code",
      "metadata": {
        "id": "TiFYzaS_q0f3",
        "outputId": "8329116b-ad92-4076-8fb7-7a0e9e29092d",
        "colab": {
          "base_uri": "https://localhost:8080/",
          "height": 394
        }
      },
      "source": [
        "import matplotlib.pyplot as plt\n",
        "(pd.Series(current_board) * 100).plot(kind='bar', figsize=(16,6))"
      ],
      "execution_count": 30,
      "outputs": [
        {
          "output_type": "execute_result",
          "data": {
            "text/plain": [
              "<matplotlib.axes._subplots.AxesSubplot at 0x7f7f84cff668>"
            ]
          },
          "metadata": {
            "tags": []
          },
          "execution_count": 30
        },
        {
          "output_type": "display_data",
          "data": {
            "image/png": "[encoded data removed]",
            "text/plain": [
              "<Figure size 1152x432 with 1 Axes>"
            ]
          },
          "metadata": {
            "tags": [],
            "needs_background": "light"
          }
        }
      ]
    },
    {
      "cell_type": "markdown",
      "metadata": {
        "id": "pTRZvHYusebs"
      },
      "source": [
        "Suporte a 2 jogadores/as."
      ]
    },
    {
      "cell_type": "code",
      "metadata": {
        "id": "9Qk9xcXGssAF",
        "outputId": "9ab74b35-fcfd-40a7-d543-90cc9817ce06",
        "colab": {
          "base_uri": "https://localhost:8080/"
        }
      },
      "source": [
        "current_board = np.zeros((52,52))\n",
        "current_board.shape"
      ],
      "execution_count": 33,
      "outputs": [
        {
          "output_type": "execute_result",
          "data": {
            "text/plain": [
              "(52, 52)"
            ]
          },
          "metadata": {
            "tags": []
          },
          "execution_count": 33
        }
      ]
    },
    {
      "cell_type": "code",
      "metadata": {
        "id": "LB8SANqPrLKM",
        "outputId": "6ecd500d-f8a9-4719-b720-55ec5e4b4252",
        "colab": {
          "base_uri": "https://localhost:8080/",
          "height": 284
        }
      },
      "source": [
        "import seaborn as sns\n",
        "board_size = 52\n",
        "\n",
        "player_count = 2\n",
        "current_board = np.zeros((board_size, board_size))\n",
        "current_board[0,0] = 1\n",
        "dice_possibilities = [1,2,3,4]\n",
        "dice_probability = 1 / len(dice_possibilities)\n",
        "accepted_error = 1 / 1000000\n",
        "for turn in range(30):\n",
        "  current_player = turn % player_count\n",
        "  next_board = np.zeros((board_size,board_size))\n",
        "  for player_0_position in range(board_size):\n",
        "    for player_1_position in range(board_size):\n",
        "      positions = [player_0_position, player_1_position]\n",
        "      current_probability = current_board[player_0_position, player_1_position]\n",
        "      if current_probability <= accepted_error:\n",
        "        continue\n",
        "      # print(positions, current_probability)\n",
        "      for dice in dice_possibilities:\n",
        "        position = positions[current_player]\n",
        "        new_position = min(position + dice, board_size - 1)\n",
        "        new_positions = positions.copy()\n",
        "        new_positions [current_player] = new_position\n",
        "        next_probability = current_probability * dice_probability\n",
        "        next_board[new_positions[0], new_positions[1]] += next_probability\n",
        "        # print(f\"{current_player} positions {positions} new_positions {new_positions} {next_probability}\")\n",
        "  current_board = next_board\n",
        "  # print(current_board)\n",
        "  # print(f\"finished {turn}, player {current_player}\")\n",
        "\n",
        "current_board = current_board * 100\n",
        "sns.heatmap(current_board, cmap=\"YlGnBu\")"
      ],
      "execution_count": 61,
      "outputs": [
        {
          "output_type": "execute_result",
          "data": {
            "text/plain": [
              "<matplotlib.axes._subplots.AxesSubplot at 0x7f7f77ef0f60>"
            ]
          },
          "metadata": {
            "tags": []
          },
          "execution_count": 61
        },
        {
          "output_type": "display_data",
          "data": {
            "image/png": "[encoded data removed]",
            "text/plain": [
              "<Figure size 432x288 with 2 Axes>"
            ]
          },
          "metadata": {
            "tags": [],
            "needs_background": "light"
          }
        }
      ]
    },
    {
      "cell_type": "code",
      "metadata": {
        "id": "9dEhLHqDwkF5"
      },
      "source": [
        ""
      ],
      "execution_count": null,
      "outputs": []
    }
  ]
}