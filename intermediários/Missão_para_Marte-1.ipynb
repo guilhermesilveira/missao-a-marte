{
  "nbformat": 4,
  "nbformat_minor": 0,
  "metadata": {
    "colab": {
      "name": "Missão para Marte",
      "provenance": [],
      "collapsed_sections": []
    },
    "kernelspec": {
      "name": "python3",
      "display_name": "Python 3"
    }
  },
  "cells": [
    {
      "cell_type": "markdown",
      "metadata": {
        "id": "byTae7kyVAWI"
      },
      "source": [
        "## Quanto tempo para terminar o jogo?\n",
        "\n",
        "## Qual a probabilidade dessa situação atual do jogo ser real? E não ser fabricada manualmente (= roubada)"
      ]
    },
    {
      "cell_type": "code",
      "metadata": {
        "id": "xfhZq6m0SXPD"
      },
      "source": [
        "import numpy as np\n",
        "\n",
        "board = [0] * 52\n",
        "board[4] = 1\n",
        "board[8] = 1\n",
        "board[12] = 1\n",
        "board[16] = 1\n",
        "board[19] = 1\n",
        "board[25] = 1\n",
        "board[30] = 1\n",
        "board[33] = 1\n",
        "board[36] = 1\n",
        "board[41] = 1\n",
        "board[44] = 1\n",
        "board[47] = 1\n",
        "board = np.array(board)"
      ],
      "execution_count": 149,
      "outputs": []
    },
    {
      "cell_type": "code",
      "metadata": {
        "id": "hu0eQ0_nW7Wj"
      },
      "source": [
        "# o que aconteceria se as cartas fossem balanceadas? -6,-5,-4,-3,-2,-1,1,2,3,4,5,6\n",
        "\n",
        "cards = [-6, -5, -4, -3, -2, -1, 1, 2, 3, 3, 4, 6]"
      ],
      "execution_count": 150,
      "outputs": []
    },
    {
      "cell_type": "code",
      "metadata": {
        "id": "uN-S9yZFXinT"
      },
      "source": [
        "# regra assumida: quando você pega uma carta e usa, ela volta pra pilha, EMBARALHADA"
      ],
      "execution_count": 151,
      "outputs": []
    },
    {
      "cell_type": "code",
      "metadata": {
        "id": "ccQ9nEY5X-xF"
      },
      "source": [
        "DICE_FACES = 4"
      ],
      "execution_count": 152,
      "outputs": []
    },
    {
      "cell_type": "code",
      "metadata": {
        "id": "bGIiw7MHYe_U"
      },
      "source": [
        "np.random.seed(43354)\n",
        "\n",
        "class Game:\n",
        "  def __init__(self, players, board, player_time):\n",
        "    self.players = players\n",
        "    self.board = board\n",
        "    # current_player pode ser calculado atraves do turno\n",
        "    self.current_player = 0\n",
        "    self.turn = 1\n",
        "    self.player_position = np.array([0, 0])\n",
        "    self.player_time = player_time\n",
        "    self.current_time = 0\n",
        "\n",
        "  def next_turn(self):\n",
        "\n",
        "    dice = np.random.choice(DICE_FACES) + 1\n",
        "    \n",
        "    self.player_position[self.current_player] += dice\n",
        "    self.current_time += self.player_time[self.current_player]\n",
        "\n",
        "    if self.player_position[self.current_player] >= len(self.board) - 1:\n",
        "      # print(f\"winner {self.current_player}\")\n",
        "      return False\n",
        "\n",
        "    self.current_player = (self.current_player + 1) % self.players\n",
        "    self.turn += 1\n",
        "    return True\n",
        "\n",
        "  def print_status(self):\n",
        "    print(f\"{self.turn} :: {self.player_position}\")\n",
        "\n"
      ],
      "execution_count": 153,
      "outputs": []
    },
    {
      "cell_type": "code",
      "metadata": {
        "id": "jgg9zsUTY2k0",
        "outputId": "7a7c32aa-f54f-4c84-dcd7-1aacce4e137a",
        "colab": {
          "base_uri": "https://localhost:8080/"
        }
      },
      "source": [
        "# o tempo em funcao do numero de jogadores?\n",
        "\n",
        "def simulate(player_time):\n",
        "  game = Game(2, board, player_time=player_time)\n",
        "  while game.next_turn():\n",
        "    pass\n",
        "  return [game.current_time / 60.0, game.current_player, game.turn, game.player_position]\n",
        "  # game.print_status()\n",
        "simulate([5,30])"
      ],
      "execution_count": 154,
      "outputs": [
        {
          "output_type": "execute_result",
          "data": {
            "text/plain": [
              "[11.083333333333334, 1, 38, array([42, 51])]"
            ]
          },
          "metadata": {
            "tags": []
          },
          "execution_count": 154
        }
      ]
    },
    {
      "cell_type": "code",
      "metadata": {
        "id": "_oI8osVCZBCu"
      },
      "source": [
        "from tqdm import tqdm\n"
      ],
      "execution_count": 155,
      "outputs": []
    },
    {
      "cell_type": "code",
      "metadata": {
        "id": "yaShiKrgcj92",
        "outputId": "57775f56-8fb7-4beb-9cb1-7aed9f755c7c",
        "colab": {
          "base_uri": "https://localhost:8080/",
          "height": 1000
        }
      },
      "source": [
        "import pandas as pd\n",
        "\n",
        "np.random.seed(43278)\n",
        "results = [simulate([5,30]) for i in tqdm(range(10000))]\n",
        "results = pd.DataFrame(results, columns=[\"time\", \"player\", \"turn\", \"positions\"])\n",
        "results.head()"
      ],
      "execution_count": 156,
      "outputs": [
        {
          "output_type": "stream",
          "text": [
            "\n",
            "\n",
            "  0%|          | 0/10000 [00:00<?, ?it/s]\u001b[A\u001b[A\n",
            "\n",
            "  3%|▎         | 329/10000 [00:00<00:02, 3285.65it/s]\u001b[A\u001b[A\n",
            "\n",
            "  7%|▋         | 696/10000 [00:00<00:02, 3390.24it/s]\u001b[A\u001b[A\n",
            "\n",
            " 11%|█         | 1064/10000 [00:00<00:02, 3469.86it/s]\u001b[A\u001b[A\n",
            "\n",
            " 14%|█▍        | 1421/10000 [00:00<00:02, 3499.04it/s]\u001b[A\u001b[A\n",
            "\n",
            " 17%|█▋        | 1735/10000 [00:00<00:02, 3381.32it/s]\u001b[A\u001b[A\n",
            "\n",
            " 21%|██        | 2075/10000 [00:00<00:02, 3383.81it/s]\u001b[A\u001b[A\n",
            "\n",
            " 25%|██▍       | 2458/10000 [00:00<00:02, 3505.84it/s]\u001b[A\u001b[A\n",
            "\n",
            " 28%|██▊       | 2795/10000 [00:00<00:02, 3462.10it/s]\u001b[A\u001b[A\n",
            "\n",
            " 32%|███▏      | 3154/10000 [00:00<00:01, 3497.32it/s]\u001b[A\u001b[A\n",
            "\n",
            " 35%|███▌      | 3524/10000 [00:01<00:01, 3555.38it/s]\u001b[A\u001b[A\n",
            "\n",
            " 39%|███▉      | 3902/10000 [00:01<00:01, 3618.39it/s]\u001b[A\u001b[A\n",
            "\n",
            " 43%|████▎     | 4265/10000 [00:01<00:01, 3611.05it/s]\u001b[A\u001b[A\n",
            "\n",
            " 47%|████▋     | 4655/10000 [00:01<00:01, 3692.02it/s]\u001b[A\u001b[A\n",
            "\n",
            " 50%|█████     | 5035/10000 [00:01<00:01, 3722.37it/s]\u001b[A\u001b[A\n",
            "\n",
            " 54%|█████▍    | 5406/10000 [00:01<00:01, 3593.79it/s]\u001b[A\u001b[A\n",
            "\n",
            " 58%|█████▊    | 5766/10000 [00:01<00:01, 3476.96it/s]\u001b[A\u001b[A\n",
            "\n",
            " 62%|██████▏   | 6155/10000 [00:01<00:01, 3590.91it/s]\u001b[A\u001b[A\n",
            "\n",
            " 65%|██████▌   | 6531/10000 [00:01<00:00, 3638.95it/s]\u001b[A\u001b[A\n",
            "\n",
            " 69%|██████▉   | 6901/10000 [00:01<00:00, 3655.32it/s]\u001b[A\u001b[A\n",
            "\n",
            " 73%|███████▎  | 7275/10000 [00:02<00:00, 3678.99it/s]\u001b[A\u001b[A\n",
            "\n",
            " 76%|███████▋  | 7644/10000 [00:02<00:00, 3666.36it/s]\u001b[A\u001b[A\n",
            "\n",
            " 80%|████████  | 8012/10000 [00:02<00:00, 3644.20it/s]\u001b[A\u001b[A\n",
            "\n",
            " 84%|████████▍ | 8377/10000 [00:02<00:00, 3522.98it/s]\u001b[A\u001b[A\n",
            "\n",
            " 88%|████████▊ | 8763/10000 [00:02<00:00, 3616.22it/s]\u001b[A\u001b[A\n",
            "\n",
            " 91%|█████████▏| 9127/10000 [00:02<00:00, 3580.52it/s]\u001b[A\u001b[A\n",
            "\n",
            " 95%|█████████▍| 9487/10000 [00:02<00:00, 3544.09it/s]\u001b[A\u001b[A\n",
            "\n",
            "100%|██████████| 10000/10000 [00:02<00:00, 3568.27it/s]\n"
          ],
          "name": "stderr"
        },
        {
          "output_type": "execute_result",
          "data": {
            "text/html": [
              "<div>\n",
              "<style scoped>\n",
              "    .dataframe tbody tr th:only-of-type {\n",
              "        vertical-align: middle;\n",
              "    }\n",
              "\n",
              "    .dataframe tbody tr th {\n",
              "        vertical-align: top;\n",
              "    }\n",
              "\n",
              "    .dataframe thead th {\n",
              "        text-align: right;\n",
              "    }\n",
              "</style>\n",
              "<table border=\"1\" class=\"dataframe\">\n",
              "  <thead>\n",
              "    <tr style=\"text-align: right;\">\n",
              "      <th></th>\n",
              "      <th>time</th>\n",
              "      <th>player</th>\n",
              "      <th>turn</th>\n",
              "      <th>positions</th>\n",
              "    </tr>\n",
              "  </thead>\n",
              "  <tbody>\n",
              "    <tr>\n",
              "      <th>0</th>\n",
              "      <td>11.666667</td>\n",
              "      <td>1</td>\n",
              "      <td>40</td>\n",
              "      <td>[43, 54]</td>\n",
              "    </tr>\n",
              "    <tr>\n",
              "      <th>1</th>\n",
              "      <td>11.083333</td>\n",
              "      <td>1</td>\n",
              "      <td>38</td>\n",
              "      <td>[48, 51]</td>\n",
              "    </tr>\n",
              "    <tr>\n",
              "      <th>2</th>\n",
              "      <td>9.416667</td>\n",
              "      <td>0</td>\n",
              "      <td>33</td>\n",
              "      <td>[52, 35]</td>\n",
              "    </tr>\n",
              "    <tr>\n",
              "      <th>3</th>\n",
              "      <td>10.583333</td>\n",
              "      <td>0</td>\n",
              "      <td>37</td>\n",
              "      <td>[51, 46]</td>\n",
              "    </tr>\n",
              "    <tr>\n",
              "      <th>4</th>\n",
              "      <td>10.583333</td>\n",
              "      <td>0</td>\n",
              "      <td>37</td>\n",
              "      <td>[51, 43]</td>\n",
              "    </tr>\n",
              "  </tbody>\n",
              "</table>\n",
              "</div>"
            ],
            "text/plain": [
              "        time  player  turn positions\n",
              "0  11.666667       1    40  [43, 54]\n",
              "1  11.083333       1    38  [48, 51]\n",
              "2   9.416667       0    33  [52, 35]\n",
              "3  10.583333       0    37  [51, 46]\n",
              "4  10.583333       0    37  [51, 43]"
            ]
          },
          "metadata": {
            "tags": []
          },
          "execution_count": 156
        }
      ]
    },
    {
      "cell_type": "code",
      "metadata": {
        "id": "LT5KGOGacpW8",
        "outputId": "efb122e3-a476-4584-ea2d-37d1a6db5a1c",
        "colab": {
          "base_uri": "https://localhost:8080/"
        }
      },
      "source": [
        "results.mean()"
      ],
      "execution_count": 157,
      "outputs": [
        {
          "output_type": "execute_result",
          "data": {
            "text/plain": [
              "time                    11.1873\n",
              "player                   0.4179\n",
              "turn                    38.7721\n",
              "positions    [49.2707, 47.6236]\n",
              "dtype: object"
            ]
          },
          "metadata": {
            "tags": []
          },
          "execution_count": 157
        }
      ]
    },
    {
      "cell_type": "markdown",
      "metadata": {
        "id": "e02gUgB0dHof"
      },
      "source": [
        "## O jogador inicial tem vantagem!\n",
        "\n",
        "## Em média vão ser 38.7 jogadas e 11 minutos. Mas não existe 38.7 jogadas!"
      ]
    },
    {
      "cell_type": "code",
      "metadata": {
        "id": "6Hg8YVcGdBC2",
        "outputId": "21f7deec-dd16-4153-a884-7aab485ebbe1",
        "colab": {
          "base_uri": "https://localhost:8080/",
          "height": 282
        }
      },
      "source": [
        "results['time'].plot(kind='hist')"
      ],
      "execution_count": 158,
      "outputs": [
        {
          "output_type": "execute_result",
          "data": {
            "text/plain": [
              "<matplotlib.axes._subplots.AxesSubplot at 0x7fc560abef28>"
            ]
          },
          "metadata": {
            "tags": []
          },
          "execution_count": 158
        },
        {
          "output_type": "display_data",
          "data": {
            "image/png": "[encoded data removed]",
            "text/plain": [
              "<Figure size 432x288 with 1 Axes>"
            ]
          },
          "metadata": {
            "tags": [],
            "needs_background": "light"
          }
        }
      ]
    },
    {
      "cell_type": "code",
      "metadata": {
        "id": "EQBRsuV8dRNk",
        "outputId": "373bf4e3-c36a-4b38-b988-1179e0393e82",
        "colab": {
          "base_uri": "https://localhost:8080/",
          "height": 282
        }
      },
      "source": [
        "results['turn'].plot(kind='hist')"
      ],
      "execution_count": 159,
      "outputs": [
        {
          "output_type": "execute_result",
          "data": {
            "text/plain": [
              "<matplotlib.axes._subplots.AxesSubplot at 0x7fc560668c88>"
            ]
          },
          "metadata": {
            "tags": []
          },
          "execution_count": 159
        },
        {
          "output_type": "display_data",
          "data": {
            "image/png": "[encoded data removed]",
            "text/plain": [
              "<Figure size 432x288 with 1 Axes>"
            ]
          },
          "metadata": {
            "tags": [],
            "needs_background": "light"
          }
        }
      ]
    },
    {
      "cell_type": "code",
      "metadata": {
        "id": "IErqcPJNduRN",
        "outputId": "51ff3f34-dfca-46af-8515-39485c81909c",
        "colab": {
          "base_uri": "https://localhost:8080/",
          "height": 282
        }
      },
      "source": [
        "results['player'].plot(kind='hist')"
      ],
      "execution_count": 160,
      "outputs": [
        {
          "output_type": "execute_result",
          "data": {
            "text/plain": [
              "<matplotlib.axes._subplots.AxesSubplot at 0x7fc5605a25c0>"
            ]
          },
          "metadata": {
            "tags": []
          },
          "execution_count": 160
        },
        {
          "output_type": "display_data",
          "data": {
            "image/png": "[encoded data removed]",
            "text/plain": [
              "<Figure size 432x288 with 1 Axes>"
            ]
          },
          "metadata": {
            "tags": [],
            "needs_background": "light"
          }
        }
      ]
    },
    {
      "cell_type": "code",
      "metadata": {
        "id": "chtYi3Sodxxl"
      },
      "source": [
        "import matplotlib.pyplot as plt\n",
        "\n",
        "def run_simulation_for(player_time):\n",
        "  np.random.seed(574983)\n",
        "  results = [simulate(player_time) for i in tqdm(range(10000))]\n",
        "  results = pd.DataFrame(results, columns=[\"time\", \"player\", \"turn\", \"positions\"])\n",
        "  results['player'].plot(kind='hist')\n",
        "  plt.show()\n",
        "  results['turn'].plot(kind='hist')\n",
        "  plt.show()\n",
        "  results['time'].plot(kind='hist')\n",
        "  plt.show()\n",
        "  display(results.describe())\n",
        "  return results"
      ],
      "execution_count": 161,
      "outputs": []
    },
    {
      "cell_type": "code",
      "metadata": {
        "id": "uHhWwlngeNNm",
        "outputId": "b9af4cdd-b1f7-4cb5-9ea6-86e61c316ce2",
        "colab": {
          "base_uri": "https://localhost:8080/",
          "height": 1000
        }
      },
      "source": [
        "run_simulation_for([5,30])"
      ],
      "execution_count": 162,
      "outputs": [
        {
          "output_type": "stream",
          "text": [
            "\n",
            "\n",
            "  0%|          | 0/10000 [00:00<?, ?it/s]\u001b[A\u001b[A\n",
            "\n",
            "  3%|▎         | 343/10000 [00:00<00:02, 3428.37it/s]\u001b[A\u001b[A\n",
            "\n",
            "  7%|▋         | 669/10000 [00:00<00:02, 3373.74it/s]\u001b[A\u001b[A\n",
            "\n",
            " 10%|█         | 1033/10000 [00:00<00:02, 3449.02it/s]\u001b[A\u001b[A\n",
            "\n",
            " 14%|█▍        | 1405/10000 [00:00<00:02, 3524.57it/s]\u001b[A\u001b[A\n",
            "\n",
            " 18%|█▊        | 1782/10000 [00:00<00:02, 3592.28it/s]\u001b[A\u001b[A\n",
            "\n",
            " 22%|██▏       | 2158/10000 [00:00<00:02, 3640.91it/s]\u001b[A\u001b[A\n",
            "\n",
            " 25%|██▌       | 2539/10000 [00:00<00:02, 3689.74it/s]\u001b[A\u001b[A\n",
            "\n",
            " 29%|██▉       | 2906/10000 [00:00<00:01, 3682.84it/s]\u001b[A\u001b[A\n",
            "\n",
            " 33%|███▎      | 3272/10000 [00:00<00:01, 3675.58it/s]\u001b[A\u001b[A\n",
            "\n",
            " 36%|███▋      | 3640/10000 [00:01<00:01, 3674.99it/s]\u001b[A\u001b[A\n",
            "\n",
            " 40%|███▉      | 3999/10000 [00:01<00:01, 3620.87it/s]\u001b[A\u001b[A\n",
            "\n",
            " 44%|████▎     | 4355/10000 [00:01<00:01, 3509.49it/s]\u001b[A\u001b[A\n",
            "\n",
            " 47%|████▋     | 4703/10000 [00:01<00:01, 3465.54it/s]\u001b[A\u001b[A\n",
            "\n",
            " 51%|█████     | 5066/10000 [00:01<00:01, 3513.23it/s]\u001b[A\u001b[A\n",
            "\n",
            " 54%|█████▍    | 5416/10000 [00:01<00:01, 3457.08it/s]\u001b[A\u001b[A\n",
            "\n",
            " 58%|█████▊    | 5762/10000 [00:01<00:01, 3455.80it/s]\u001b[A\u001b[A\n",
            "\n",
            " 61%|██████    | 6113/10000 [00:01<00:01, 3470.70it/s]\u001b[A\u001b[A\n",
            "\n",
            " 65%|██████▍   | 6485/10000 [00:01<00:00, 3538.53it/s]\u001b[A\u001b[A\n",
            "\n",
            " 68%|██████▊   | 6850/10000 [00:01<00:00, 3570.86it/s]\u001b[A\u001b[A\n",
            "\n",
            " 72%|███████▏  | 7217/10000 [00:02<00:00, 3599.28it/s]\u001b[A\u001b[A\n",
            "\n",
            " 76%|███████▌  | 7578/10000 [00:02<00:00, 3563.01it/s]\u001b[A\u001b[A\n",
            "\n",
            " 79%|███████▉  | 7935/10000 [00:02<00:00, 3502.10it/s]\u001b[A\u001b[A\n",
            "\n",
            " 83%|████████▎ | 8321/10000 [00:02<00:00, 3600.74it/s]\u001b[A\u001b[A\n",
            "\n",
            " 87%|████████▋ | 8683/10000 [00:02<00:00, 3513.03it/s]\u001b[A\u001b[A\n",
            "\n",
            " 91%|█████████ | 9055/10000 [00:02<00:00, 3571.98it/s]\u001b[A\u001b[A\n",
            "\n",
            " 94%|█████████▍| 9414/10000 [00:02<00:00, 3463.20it/s]\u001b[A\u001b[A\n",
            "\n",
            "100%|██████████| 10000/10000 [00:02<00:00, 3548.01it/s]\n"
          ],
          "name": "stderr"
        },
        {
          "output_type": "display_data",
          "data": {
            "image/png": "[encoded data removed]",
            "text/plain": [
              "<Figure size 432x288 with 1 Axes>"
            ]
          },
          "metadata": {
            "tags": [],
            "needs_background": "light"
          }
        },
        {
          "output_type": "display_data",
          "data": {
            "image/png": "[encoded data removed]",
            "text/plain": [
              "<Figure size 432x288 with 1 Axes>"
            ]
          },
          "metadata": {
            "tags": [],
            "needs_background": "light"
          }
        },
        {
          "output_type": "display_data",
          "data": {
            "image/png": "[encoded data removed]",
            "text/plain": [
              "<Figure size 432x288 with 1 Axes>"
            ]
          },
          "metadata": {
            "tags": [],
            "needs_background": "light"
          }
        },
        {
          "output_type": "display_data",
          "data": {
            "text/html": [
              "<div>\n",
              "<style scoped>\n",
              "    .dataframe tbody tr th:only-of-type {\n",
              "        vertical-align: middle;\n",
              "    }\n",
              "\n",
              "    .dataframe tbody tr th {\n",
              "        vertical-align: top;\n",
              "    }\n",
              "\n",
              "    .dataframe thead th {\n",
              "        text-align: right;\n",
              "    }\n",
              "</style>\n",
              "<table border=\"1\" class=\"dataframe\">\n",
              "  <thead>\n",
              "    <tr style=\"text-align: right;\">\n",
              "      <th></th>\n",
              "      <th>time</th>\n",
              "      <th>player</th>\n",
              "      <th>turn</th>\n",
              "    </tr>\n",
              "  </thead>\n",
              "  <tbody>\n",
              "    <tr>\n",
              "      <th>count</th>\n",
              "      <td>10000.000000</td>\n",
              "      <td>10000.000000</td>\n",
              "      <td>10000.000000</td>\n",
              "    </tr>\n",
              "    <tr>\n",
              "      <th>mean</th>\n",
              "      <td>11.176942</td>\n",
              "      <td>0.432500</td>\n",
              "      <td>38.726300</td>\n",
              "    </tr>\n",
              "    <tr>\n",
              "      <th>std</th>\n",
              "      <td>0.938455</td>\n",
              "      <td>0.495448</td>\n",
              "      <td>3.172412</td>\n",
              "    </tr>\n",
              "    <tr>\n",
              "      <th>min</th>\n",
              "      <td>8.166667</td>\n",
              "      <td>0.000000</td>\n",
              "      <td>28.000000</td>\n",
              "    </tr>\n",
              "    <tr>\n",
              "      <th>25%</th>\n",
              "      <td>10.583333</td>\n",
              "      <td>0.000000</td>\n",
              "      <td>37.000000</td>\n",
              "    </tr>\n",
              "    <tr>\n",
              "      <th>50%</th>\n",
              "      <td>11.166667</td>\n",
              "      <td>0.000000</td>\n",
              "      <td>39.000000</td>\n",
              "    </tr>\n",
              "    <tr>\n",
              "      <th>75%</th>\n",
              "      <td>11.750000</td>\n",
              "      <td>1.000000</td>\n",
              "      <td>41.000000</td>\n",
              "    </tr>\n",
              "    <tr>\n",
              "      <th>max</th>\n",
              "      <td>15.166667</td>\n",
              "      <td>1.000000</td>\n",
              "      <td>52.000000</td>\n",
              "    </tr>\n",
              "  </tbody>\n",
              "</table>\n",
              "</div>"
            ],
            "text/plain": [
              "               time        player          turn\n",
              "count  10000.000000  10000.000000  10000.000000\n",
              "mean      11.176942      0.432500     38.726300\n",
              "std        0.938455      0.495448      3.172412\n",
              "min        8.166667      0.000000     28.000000\n",
              "25%       10.583333      0.000000     37.000000\n",
              "50%       11.166667      0.000000     39.000000\n",
              "75%       11.750000      1.000000     41.000000\n",
              "max       15.166667      1.000000     52.000000"
            ]
          },
          "metadata": {
            "tags": []
          }
        },
        {
          "output_type": "execute_result",
          "data": {
            "text/html": [
              "<div>\n",
              "<style scoped>\n",
              "    .dataframe tbody tr th:only-of-type {\n",
              "        vertical-align: middle;\n",
              "    }\n",
              "\n",
              "    .dataframe tbody tr th {\n",
              "        vertical-align: top;\n",
              "    }\n",
              "\n",
              "    .dataframe thead th {\n",
              "        text-align: right;\n",
              "    }\n",
              "</style>\n",
              "<table border=\"1\" class=\"dataframe\">\n",
              "  <thead>\n",
              "    <tr style=\"text-align: right;\">\n",
              "      <th></th>\n",
              "      <th>time</th>\n",
              "      <th>player</th>\n",
              "      <th>turn</th>\n",
              "      <th>positions</th>\n",
              "    </tr>\n",
              "  </thead>\n",
              "  <tbody>\n",
              "    <tr>\n",
              "      <th>0</th>\n",
              "      <td>12.916667</td>\n",
              "      <td>0</td>\n",
              "      <td>45</td>\n",
              "      <td>[53, 47]</td>\n",
              "    </tr>\n",
              "    <tr>\n",
              "      <th>1</th>\n",
              "      <td>10.583333</td>\n",
              "      <td>0</td>\n",
              "      <td>37</td>\n",
              "      <td>[51, 50]</td>\n",
              "    </tr>\n",
              "    <tr>\n",
              "      <th>2</th>\n",
              "      <td>10.583333</td>\n",
              "      <td>0</td>\n",
              "      <td>37</td>\n",
              "      <td>[51, 43]</td>\n",
              "    </tr>\n",
              "    <tr>\n",
              "      <th>3</th>\n",
              "      <td>12.833333</td>\n",
              "      <td>1</td>\n",
              "      <td>44</td>\n",
              "      <td>[50, 51]</td>\n",
              "    </tr>\n",
              "    <tr>\n",
              "      <th>4</th>\n",
              "      <td>13.416667</td>\n",
              "      <td>1</td>\n",
              "      <td>46</td>\n",
              "      <td>[49, 51]</td>\n",
              "    </tr>\n",
              "    <tr>\n",
              "      <th>...</th>\n",
              "      <td>...</td>\n",
              "      <td>...</td>\n",
              "      <td>...</td>\n",
              "      <td>...</td>\n",
              "    </tr>\n",
              "    <tr>\n",
              "      <th>9995</th>\n",
              "      <td>11.166667</td>\n",
              "      <td>0</td>\n",
              "      <td>39</td>\n",
              "      <td>[52, 45]</td>\n",
              "    </tr>\n",
              "    <tr>\n",
              "      <th>9996</th>\n",
              "      <td>11.166667</td>\n",
              "      <td>0</td>\n",
              "      <td>39</td>\n",
              "      <td>[53, 40]</td>\n",
              "    </tr>\n",
              "    <tr>\n",
              "      <th>9997</th>\n",
              "      <td>12.250000</td>\n",
              "      <td>1</td>\n",
              "      <td>42</td>\n",
              "      <td>[45, 51]</td>\n",
              "    </tr>\n",
              "    <tr>\n",
              "      <th>9998</th>\n",
              "      <td>10.000000</td>\n",
              "      <td>0</td>\n",
              "      <td>35</td>\n",
              "      <td>[51, 38]</td>\n",
              "    </tr>\n",
              "    <tr>\n",
              "      <th>9999</th>\n",
              "      <td>11.666667</td>\n",
              "      <td>1</td>\n",
              "      <td>40</td>\n",
              "      <td>[48, 52]</td>\n",
              "    </tr>\n",
              "  </tbody>\n",
              "</table>\n",
              "<p>10000 rows × 4 columns</p>\n",
              "</div>"
            ],
            "text/plain": [
              "           time  player  turn positions\n",
              "0     12.916667       0    45  [53, 47]\n",
              "1     10.583333       0    37  [51, 50]\n",
              "2     10.583333       0    37  [51, 43]\n",
              "3     12.833333       1    44  [50, 51]\n",
              "4     13.416667       1    46  [49, 51]\n",
              "...         ...     ...   ...       ...\n",
              "9995  11.166667       0    39  [52, 45]\n",
              "9996  11.166667       0    39  [53, 40]\n",
              "9997  12.250000       1    42  [45, 51]\n",
              "9998  10.000000       0    35  [51, 38]\n",
              "9999  11.666667       1    40  [48, 52]\n",
              "\n",
              "[10000 rows x 4 columns]"
            ]
          },
          "metadata": {
            "tags": []
          },
          "execution_count": 162
        }
      ]
    },
    {
      "cell_type": "code",
      "metadata": {
        "id": "yx2sot_ZeOWN",
        "outputId": "af7c9f98-3ffe-42ad-f27d-071c80302d25",
        "colab": {
          "base_uri": "https://localhost:8080/",
          "height": 1000
        }
      },
      "source": [
        "run_simulation_for([30,5])"
      ],
      "execution_count": 163,
      "outputs": [
        {
          "output_type": "stream",
          "text": [
            "\n",
            "\n",
            "  0%|          | 0/10000 [00:00<?, ?it/s]\u001b[A\u001b[A\n",
            "\n",
            "  3%|▎         | 338/10000 [00:00<00:02, 3368.61it/s]\u001b[A\u001b[A\n",
            "\n",
            "  7%|▋         | 706/10000 [00:00<00:02, 3455.63it/s]\u001b[A\u001b[A\n",
            "\n",
            " 11%|█         | 1076/10000 [00:00<00:02, 3522.93it/s]\u001b[A\u001b[A\n",
            "\n",
            " 15%|█▍        | 1456/10000 [00:00<00:02, 3600.17it/s]\u001b[A\u001b[A\n",
            "\n",
            " 18%|█▊        | 1839/10000 [00:00<00:02, 3665.08it/s]\u001b[A\u001b[A\n",
            "\n",
            " 22%|██▏       | 2210/10000 [00:00<00:02, 3678.20it/s]\u001b[A\u001b[A\n",
            "\n",
            " 26%|██▌       | 2567/10000 [00:00<00:02, 3643.53it/s]\u001b[A\u001b[A\n",
            "\n",
            " 30%|██▉       | 2958/10000 [00:00<00:01, 3719.43it/s]\u001b[A\u001b[A\n",
            "\n",
            " 33%|███▎      | 3333/10000 [00:00<00:01, 3727.53it/s]\u001b[A\u001b[A\n",
            "\n",
            " 37%|███▋      | 3702/10000 [00:01<00:01, 3715.16it/s]\u001b[A\u001b[A\n",
            "\n",
            " 41%|████      | 4079/10000 [00:01<00:01, 3730.52it/s]\u001b[A\u001b[A\n",
            "\n",
            " 45%|████▍     | 4453/10000 [00:01<00:01, 3731.26it/s]\u001b[A\u001b[A\n",
            "\n",
            " 48%|████▊     | 4822/10000 [00:01<00:01, 3615.94it/s]\u001b[A\u001b[A\n",
            "\n",
            " 52%|█████▏    | 5208/10000 [00:01<00:01, 3683.81it/s]\u001b[A\u001b[A\n",
            "\n",
            " 56%|█████▌    | 5576/10000 [00:01<00:01, 3680.00it/s]\u001b[A\u001b[A\n",
            "\n",
            " 59%|█████▉    | 5948/10000 [00:01<00:01, 3689.06it/s]\u001b[A\u001b[A\n",
            "\n",
            " 63%|██████▎   | 6317/10000 [00:01<00:01, 3593.04it/s]\u001b[A\u001b[A\n",
            "\n",
            " 67%|██████▋   | 6677/10000 [00:01<00:00, 3572.63it/s]\u001b[A\u001b[A\n",
            "\n",
            " 70%|███████   | 7035/10000 [00:01<00:00, 3553.79it/s]\u001b[A\u001b[A\n",
            "\n",
            " 74%|███████▍  | 7420/10000 [00:02<00:00, 3637.00it/s]\u001b[A\u001b[A\n",
            "\n",
            " 78%|███████▊  | 7785/10000 [00:02<00:00, 3636.89it/s]\u001b[A\u001b[A\n",
            "\n",
            " 82%|████████▏ | 8159/10000 [00:02<00:00, 3665.21it/s]\u001b[A\u001b[A\n",
            "\n",
            " 85%|████████▌ | 8531/10000 [00:02<00:00, 3679.81it/s]\u001b[A\u001b[A\n",
            "\n",
            " 89%|████████▉ | 8900/10000 [00:02<00:00, 3647.99it/s]\u001b[A\u001b[A\n",
            "\n",
            " 93%|█████████▎| 9290/10000 [00:02<00:00, 3718.78it/s]\u001b[A\u001b[A\n",
            "\n",
            "100%|██████████| 10000/10000 [00:02<00:00, 3663.90it/s]\n"
          ],
          "name": "stderr"
        },
        {
          "output_type": "display_data",
          "data": {
            "image/png": "[encoded data removed]",
            "text/plain": [
              "<Figure size 432x288 with 1 Axes>"
            ]
          },
          "metadata": {
            "tags": [],
            "needs_background": "light"
          }
        },
        {
          "output_type": "display_data",
          "data": {
            "image/png": "[encoded data removed]",
            "text/plain": [
              "<Figure size 432x288 with 1 Axes>"
            ]
          },
          "metadata": {
            "tags": [],
            "needs_background": "light"
          }
        },
        {
          "output_type": "display_data",
          "data": {
            "image/png": "[encoded data removed]",
            "text/plain": [
              "<Figure size 432x288 with 1 Axes>"
            ]
          },
          "metadata": {
            "tags": [],
            "needs_background": "light"
          }
        },
        {
          "output_type": "display_data",
          "data": {
            "text/html": [
              "<div>\n",
              "<style scoped>\n",
              "    .dataframe tbody tr th:only-of-type {\n",
              "        vertical-align: middle;\n",
              "    }\n",
              "\n",
              "    .dataframe tbody tr th {\n",
              "        vertical-align: top;\n",
              "    }\n",
              "\n",
              "    .dataframe thead th {\n",
              "        text-align: right;\n",
              "    }\n",
              "</style>\n",
              "<table border=\"1\" class=\"dataframe\">\n",
              "  <thead>\n",
              "    <tr style=\"text-align: right;\">\n",
              "      <th></th>\n",
              "      <th>time</th>\n",
              "      <th>player</th>\n",
              "      <th>turn</th>\n",
              "    </tr>\n",
              "  </thead>\n",
              "  <tbody>\n",
              "    <tr>\n",
              "      <th>count</th>\n",
              "      <td>10000.000000</td>\n",
              "      <td>10000.000000</td>\n",
              "      <td>10000.000000</td>\n",
              "    </tr>\n",
              "    <tr>\n",
              "      <th>mean</th>\n",
              "      <td>11.413400</td>\n",
              "      <td>0.432500</td>\n",
              "      <td>38.726300</td>\n",
              "    </tr>\n",
              "    <tr>\n",
              "      <th>std</th>\n",
              "      <td>0.923537</td>\n",
              "      <td>0.495448</td>\n",
              "      <td>3.172412</td>\n",
              "    </tr>\n",
              "    <tr>\n",
              "      <th>min</th>\n",
              "      <td>8.166667</td>\n",
              "      <td>0.000000</td>\n",
              "      <td>28.000000</td>\n",
              "    </tr>\n",
              "    <tr>\n",
              "      <th>25%</th>\n",
              "      <td>11.000000</td>\n",
              "      <td>0.000000</td>\n",
              "      <td>37.000000</td>\n",
              "    </tr>\n",
              "    <tr>\n",
              "      <th>50%</th>\n",
              "      <td>11.583333</td>\n",
              "      <td>0.000000</td>\n",
              "      <td>39.000000</td>\n",
              "    </tr>\n",
              "    <tr>\n",
              "      <th>75%</th>\n",
              "      <td>12.166667</td>\n",
              "      <td>1.000000</td>\n",
              "      <td>41.000000</td>\n",
              "    </tr>\n",
              "    <tr>\n",
              "      <th>max</th>\n",
              "      <td>15.166667</td>\n",
              "      <td>1.000000</td>\n",
              "      <td>52.000000</td>\n",
              "    </tr>\n",
              "  </tbody>\n",
              "</table>\n",
              "</div>"
            ],
            "text/plain": [
              "               time        player          turn\n",
              "count  10000.000000  10000.000000  10000.000000\n",
              "mean      11.413400      0.432500     38.726300\n",
              "std        0.923537      0.495448      3.172412\n",
              "min        8.166667      0.000000     28.000000\n",
              "25%       11.000000      0.000000     37.000000\n",
              "50%       11.583333      0.000000     39.000000\n",
              "75%       12.166667      1.000000     41.000000\n",
              "max       15.166667      1.000000     52.000000"
            ]
          },
          "metadata": {
            "tags": []
          }
        },
        {
          "output_type": "execute_result",
          "data": {
            "text/html": [
              "<div>\n",
              "<style scoped>\n",
              "    .dataframe tbody tr th:only-of-type {\n",
              "        vertical-align: middle;\n",
              "    }\n",
              "\n",
              "    .dataframe tbody tr th {\n",
              "        vertical-align: top;\n",
              "    }\n",
              "\n",
              "    .dataframe thead th {\n",
              "        text-align: right;\n",
              "    }\n",
              "</style>\n",
              "<table border=\"1\" class=\"dataframe\">\n",
              "  <thead>\n",
              "    <tr style=\"text-align: right;\">\n",
              "      <th></th>\n",
              "      <th>time</th>\n",
              "      <th>player</th>\n",
              "      <th>turn</th>\n",
              "      <th>positions</th>\n",
              "    </tr>\n",
              "  </thead>\n",
              "  <tbody>\n",
              "    <tr>\n",
              "      <th>0</th>\n",
              "      <td>13.333333</td>\n",
              "      <td>0</td>\n",
              "      <td>45</td>\n",
              "      <td>[53, 47]</td>\n",
              "    </tr>\n",
              "    <tr>\n",
              "      <th>1</th>\n",
              "      <td>11.000000</td>\n",
              "      <td>0</td>\n",
              "      <td>37</td>\n",
              "      <td>[51, 50]</td>\n",
              "    </tr>\n",
              "    <tr>\n",
              "      <th>2</th>\n",
              "      <td>11.000000</td>\n",
              "      <td>0</td>\n",
              "      <td>37</td>\n",
              "      <td>[51, 43]</td>\n",
              "    </tr>\n",
              "    <tr>\n",
              "      <th>3</th>\n",
              "      <td>12.833333</td>\n",
              "      <td>1</td>\n",
              "      <td>44</td>\n",
              "      <td>[50, 51]</td>\n",
              "    </tr>\n",
              "    <tr>\n",
              "      <th>4</th>\n",
              "      <td>13.416667</td>\n",
              "      <td>1</td>\n",
              "      <td>46</td>\n",
              "      <td>[49, 51]</td>\n",
              "    </tr>\n",
              "    <tr>\n",
              "      <th>...</th>\n",
              "      <td>...</td>\n",
              "      <td>...</td>\n",
              "      <td>...</td>\n",
              "      <td>...</td>\n",
              "    </tr>\n",
              "    <tr>\n",
              "      <th>9995</th>\n",
              "      <td>11.583333</td>\n",
              "      <td>0</td>\n",
              "      <td>39</td>\n",
              "      <td>[52, 45]</td>\n",
              "    </tr>\n",
              "    <tr>\n",
              "      <th>9996</th>\n",
              "      <td>11.583333</td>\n",
              "      <td>0</td>\n",
              "      <td>39</td>\n",
              "      <td>[53, 40]</td>\n",
              "    </tr>\n",
              "    <tr>\n",
              "      <th>9997</th>\n",
              "      <td>12.250000</td>\n",
              "      <td>1</td>\n",
              "      <td>42</td>\n",
              "      <td>[45, 51]</td>\n",
              "    </tr>\n",
              "    <tr>\n",
              "      <th>9998</th>\n",
              "      <td>10.416667</td>\n",
              "      <td>0</td>\n",
              "      <td>35</td>\n",
              "      <td>[51, 38]</td>\n",
              "    </tr>\n",
              "    <tr>\n",
              "      <th>9999</th>\n",
              "      <td>11.666667</td>\n",
              "      <td>1</td>\n",
              "      <td>40</td>\n",
              "      <td>[48, 52]</td>\n",
              "    </tr>\n",
              "  </tbody>\n",
              "</table>\n",
              "<p>10000 rows × 4 columns</p>\n",
              "</div>"
            ],
            "text/plain": [
              "           time  player  turn positions\n",
              "0     13.333333       0    45  [53, 47]\n",
              "1     11.000000       0    37  [51, 50]\n",
              "2     11.000000       0    37  [51, 43]\n",
              "3     12.833333       1    44  [50, 51]\n",
              "4     13.416667       1    46  [49, 51]\n",
              "...         ...     ...   ...       ...\n",
              "9995  11.583333       0    39  [52, 45]\n",
              "9996  11.583333       0    39  [53, 40]\n",
              "9997  12.250000       1    42  [45, 51]\n",
              "9998  10.416667       0    35  [51, 38]\n",
              "9999  11.666667       1    40  [48, 52]\n",
              "\n",
              "[10000 rows x 4 columns]"
            ]
          },
          "metadata": {
            "tags": []
          },
          "execution_count": 163
        }
      ]
    },
    {
      "cell_type": "code",
      "metadata": {
        "id": "FWP1Mz3berJ-"
      },
      "source": [
        ""
      ],
      "execution_count": null,
      "outputs": []
    }
  ]
}